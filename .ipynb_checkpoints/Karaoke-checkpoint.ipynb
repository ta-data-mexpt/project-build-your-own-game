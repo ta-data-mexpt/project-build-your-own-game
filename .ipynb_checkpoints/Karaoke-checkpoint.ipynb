{
 "cells": [
  {
   "cell_type": "code",
   "execution_count": 48,
   "id": "028794ee-fe7a-421d-9d2c-ccbe3afa3f83",
   "metadata": {
    "collapsed": true,
    "jupyter": {
     "outputs_hidden": true,
     "source_hidden": true
    }
   },
   "outputs": [
    {
     "name": "stdout",
     "output_type": "stream",
     "text": [
      "Collecting pyfiglet\n",
      "  Downloading pyfiglet-0.8.post1-py2.py3-none-any.whl (865 kB)\n",
      "Installing collected packages: pyfiglet\n",
      "Successfully installed pyfiglet-0.8.post1\n",
      "Note: you may need to restart the kernel to use updated packages.\n"
     ]
    }
   ],
   "source": [
    "pip install pyfiglet"
   ]
  },
  {
   "cell_type": "code",
   "execution_count": 51,
   "id": "58b7858c-e8ad-4672-af3c-0de457465a22",
   "metadata": {
    "collapsed": true,
    "jupyter": {
     "outputs_hidden": true,
     "source_hidden": true
    }
   },
   "outputs": [
    {
     "name": "stdout",
     "output_type": "stream",
     "text": [
      "Collecting termcolor\n",
      "  Downloading termcolor-1.1.0.tar.gz (3.9 kB)\n",
      "Building wheels for collected packages: termcolor\n",
      "  Building wheel for termcolor (setup.py): started\n",
      "  Building wheel for termcolor (setup.py): finished with status 'done'\n",
      "  Created wheel for termcolor: filename=termcolor-1.1.0-py3-none-any.whl size=4847 sha256=8e694f9955b202cd5f3981cf33f51ae3f700d754088e2683d8336f74da72fa48\n",
      "  Stored in directory: c:\\users\\fezun\\appdata\\local\\pip\\cache\\wheels\\b6\\0d\\90\\0d1bbd99855f99cb2f6c2e5ff96f8023fad8ec367695f7d72d\n",
      "Successfully built termcolor\n",
      "Installing collected packages: termcolor\n",
      "Successfully installed termcolor-1.1.0\n",
      "Note: you may need to restart the kernel to use updated packages.\n"
     ]
    }
   ],
   "source": [
    "pip install termcolor"
   ]
  },
  {
   "cell_type": "code",
   "execution_count": 115,
   "id": "e2b92023-c494-442b-8b50-86d37d1a5e6c",
   "metadata": {
    "collapsed": true,
    "jupyter": {
     "outputs_hidden": true,
     "source_hidden": true
    },
    "tags": []
   },
   "outputs": [],
   "source": [
    "import random\n",
    "import time\n",
    "from pyfiglet import *\n",
    "from termcolor import colored\n",
    "from random import randint"
   ]
  },
  {
   "cell_type": "code",
   "execution_count": 117,
   "id": "0c6a48db-220d-43fd-aaae-ad622758c00b",
   "metadata": {
    "collapsed": true,
    "jupyter": {
     "outputs_hidden": true,
     "source_hidden": true
    },
    "tags": []
   },
   "outputs": [],
   "source": [
    "labios_compartidos = ['Amor', 'mío', 'Si', 'estoy', 'debajo', 'del', 'vaivén', 'de', 'tus', 'piernas', 'Si', 'estoy', 'hundido', 'en', 'un', 'vaivén', 'de', 'caderas', 'Esto', 'es', 'el', 'cielo,', 'es', 'mi', 'cielo', 'Amor', 'fugado', 'Me', 'tomas,', 'me', 'dejas,', 'me', 'exprimes', 'y', 'me', 'tiras', 'a', 'un', 'lado', 'Te', 'vas', 'a', 'otros', 'cielos', 'y', 'regresas', 'como', 'los', 'colibrís', 'Me', 'tienes', 'como', 'un', 'perro', 'a', 'tus', 'pies', 'Otra', 'vez', 'mi', 'boca', 'insensata', 'Vuelve', 'a', 'caer', 'en', 'tu', 'piel', 'Vuelve', 'a', 'mí', 'tu', 'boca', 'y', 'provoca', 'Vuelvo', 'a', 'caer', 'de', 'tus', 'pechos', 'a', 'tu', 'par', 'de', 'pies', 'Labios', 'compartidos,', 'labios', 'divididos,', 'mi', 'amor', 'Yo', 'no', 'puedo', 'compartir', 'tus', 'labios', 'Que', 'comparto', 'el', 'engaño', 'y', 'comparto', 'mis', 'días', 'y', 'el', 'dolor', 'Ya', 'no', 'puedo', 'compartir', 'tus', 'labios', 'Oh', 'amor,', 'oh', 'amor', 'compartido', 'Amor', 'mutante', 'Amigos', 'con', 'derecho', 'y', 'sin', 'derecho', 'de', 'tenerte', 'siempre', 'Y', 'siempre', 'tengo', 'que', 'esperar', 'paciente', 'El', 'pedazo', 'que', 'me', 'toca', 'de', 'ti', 'Relámpagos', 'de', 'alcohol', 'Las', 'voces', 'solas', 'lloran', 'en', 'el', 'sol,', 'eh', 'Mi', 'boca', 'en', 'llamas', 'torturada', 'Te', 'desnudas', 'angelada,', 'luego', 'te', 'vas', 'Otra', 'vez', 'mi', 'boca', 'insensata', 'Vuelve', 'a', 'caer', 'en', 'tu', 'piel', 'de', 'miel', 'Vuelve', 'a', 'mí', 'tu', 'boca,', 'duele', 'Vuelvo', 'a', 'caer', 'de', 'tus', 'pechos', 'a', 'tu', 'par', 'de', 'pies', 'Labios', 'compartidos,', 'labios', 'divididos,', 'mi', 'amor', 'Yo', 'no', 'puedo', 'compartir', 'tus', 'labios', 'Que', 'comparto', 'el', 'engaño', 'y', 'comparto', 'mis', 'días', 'y', 'el', 'dolor', 'Ya', 'no', 'puedo', 'compartir', 'tus', 'labios', 'Que', 'me', 'parta', 'un', 'rayo', 'Que', 'me', 'entierre', 'el', 'olvido', 'mi', 'amor', 'Pero', 'no', 'puedo', 'más', 'compartir', 'tus', 'labios,', 'compartir', 'tus', 'besos', 'Labios', 'compartidos', 'Te', 'amo', 'con', 'toda', 'mi', 'fe,', 'sin', 'medida', 'Te', 'amo', 'aunque', 'estés', 'compartida', 'Tus', 'labios', 'tiene', 'el', 'control', 'Te', 'amo', 'con', 'toda', 'mi', 'fe,', 'sin', 'medida', 'Te', 'amo', 'aunque', 'estés', 'compartida', 'Tus', 'labios', 'tienen', 'el', 'control', 'Y', 'sigues', 'tú', 'con', 'el', 'control']"
   ]
  },
  {
   "cell_type": "code",
   "execution_count": 118,
   "id": "c351d60a-feca-4192-a70a-6adff552648a",
   "metadata": {
    "collapsed": true,
    "jupyter": {
     "outputs_hidden": true,
     "source_hidden": true
    },
    "tags": []
   },
   "outputs": [],
   "source": [
    "de_musica_ligera = ['Ella', 'durmió', 'al', 'calor', 'de', 'las', 'masas', 'Y', 'yo', 'desperté', 'queriendo', 'soñarla', 'Algún', 'tiempo', 'atrás', 'pensé', 'en', 'escribirle', 'Que', 'nunca', 'sorteé', 'las', 'trampas', 'del', 'amor', 'De', 'aquel', 'amor', 'De', 'música', 'ligera', 'Nada', 'nos', 'libra', 'Nada', 'más', 'queda', 'No', 'le', 'enviaré', 'cenizas', 'de', 'rosas', 'Ni', 'pienso', 'evitar', 'un', 'roce', 'secreto', 'De', 'aquel', 'amor', 'De', 'música', 'ligera', 'Nada', 'nos', 'libra', 'Nada', 'más', 'queda', 'De', 'aquel', 'amor', 'De', 'música', 'ligera', 'Nada', 'nos', 'libra', 'Nada', 'más', 'queda', 'Nada', 'más', 'Nada', 'más', 'queda', 'Nada', 'más', 'queda', 'Nada', 'más', 'queda', 'Nada', 'más', 'queda']"
   ]
  },
  {
   "cell_type": "code",
   "execution_count": 119,
   "id": "08e6254c-29c6-479d-8bb0-068bd03b8fc8",
   "metadata": {
    "collapsed": true,
    "jupyter": {
     "outputs_hidden": true,
     "source_hidden": true
    },
    "tags": []
   },
   "outputs": [],
   "source": [
    "burbujas_de_amor = ['Tengo', 'un', 'corazón', 'Mutilado', 'de', 'esperanza', 'y', 'de', 'razón', 'Tengo', 'un', 'corazón', 'Que', 'madruga', 'adonde', 'quiera', 'Ay', 'ay', 'ay', 'ay', 'Y', 'ese', 'corazón', 'Se', 'desnuda', 'de', 'impaciencia', 'ante', 'tu', 'voz', 'Pobre', 'corazón', 'Que', 'no', 'atrapa', 'su', 'cordura', 'Quisiera', 'ser', 'un', 'pez', 'Para', 'tocar', 'mi', 'nariz', 'en', 'tu', 'pecera', 'Y', 'hacer', 'burbujas', 'de', 'amor', 'Por', 'donde', 'quiera', 'Oh-oh-oh', 'pasar', 'la', 'noche', 'en', 'vela', 'Mojado', 'en', 'ti', 'Un', 'pez', 'Para', 'bordar', 'de', 'corales', 'tu', 'cintura', 'Y', 'hacer', 'siluetas', 'de', 'amor', 'Bajo', 'la', 'luna', 'Oh-oh-oh', 'saciar', 'esta', 'locura', 'Mojado', 'en', 'ti', 'Canta', 'corazón', 'Con', 'un', 'ancla', 'imprescindible', 'de', 'ilusión', 'Sueña', 'corazón', 'No', 'te', 'nubles', 'de', 'amargura', 'Ay', 'ay', 'ay', 'ay', 'Y', 'este', 'corazón', 'Se', 'desnuda', 'de', 'impaciencia', 'ante', 'tu', 'voz', 'Pobre', 'corazón', 'Que', 'no', 'atrapa', 'su', 'cordura', 'Quisiera', 'ser', 'un', 'pez', 'Para', 'tocar', 'mi', 'nariz', 'En', 'tu', 'pecera', 'Y', 'hacer', 'burbujas', 'de', 'amor', 'Por', 'donde', 'quiera', 'Oh-oh-oh', 'pasar', 'la', 'noche', 'en', 'vela', 'Mojado', 'en', 'ti', 'Un', 'pez', 'Para', 'bordar', 'de', 'corales', 'tu', 'cintura', 'Y', 'hacer', 'siluetas', 'de', 'amor', 'Bajo', 'la', 'luna', 'Oh-oh-oh', 'saciar', 'esta', 'locura', 'Mojado', 'en', 'ti', 'Una', 'noche', 'Para', 'hundirnos', 'hasta', 'el', 'fin', 'Cara', 'a', 'cara,', 'beso', 'a', 'beso', 'Y', 'vivir', 'por', 'siempre', 'Mojado', 'en', 'ti', 'Quisiera', 'ser', 'un', 'pez', 'Para', 'tocar', 'mi', 'nariz', 'En', 'tu', 'pecera', 'Y', 'hacer', 'burbujas', 'de', 'amor', 'Por', 'donde', 'quiera', 'Oh-oh-oh', 'pasar', 'la', 'noche', 'en', 'vela', 'Mojado', 'en', 'ti', 'Un', 'pez', 'Para', 'bordar', 'de', 'cayenas', 'tu', 'cintura', 'Y', 'hacer', 'siluetas', 'de', 'amor', 'Bajo', 'la', 'luna', 'Oh-oh-oh', 'saciar', 'esta', 'locura', 'Mojado', 'en', 'ti', 'Para', 'tocar', 'mi', 'nariz', 'En', 'tu', 'pecera', 'Y', 'hacer', 'burbujas', 'de', 'amor', 'Por', 'donde', 'quiera', 'Oh-oh-oh', 'pasar', 'la', 'noche', 'en', 'vela', 'Mojado', 'en', 'ti', 'Un', 'pez', 'Para', 'bordar', 'de', 'cayenas', 'tu', 'cintura', 'Y', 'hacer', 'siluetas', 'de', 'amor', 'Bajo', 'la', 'luna', 'Oh-oh-oh', 'vaciar', 'esta', 'locura', 'Mojado', 'en', 'ti']"
   ]
  },
  {
   "cell_type": "code",
   "execution_count": 120,
   "id": "8d9a6947-374f-4b26-862f-428086ccabfd",
   "metadata": {
    "collapsed": true,
    "jupyter": {
     "outputs_hidden": true,
     "source_hidden": true
    },
    "tags": []
   },
   "outputs": [
    {
     "name": "stdout",
     "output_type": "stream",
     "text": [
      "['Bienvenido', 'a', 'KARAOKE', 'fanático', 'de', 'la', 'música!', 'Por', 'favor', 'elige', 'un', 'género']\n"
     ]
    }
   ],
   "source": [
    "print('Bienvenido a KARAOKE fanático de la música! Por favor elige un género'.split())"
   ]
  },
  {
   "cell_type": "code",
   "execution_count": 121,
   "id": "a32e5f84-5378-4929-aec5-cbaa08548a8d",
   "metadata": {
    "collapsed": true,
    "jupyter": {
     "outputs_hidden": true,
     "source_hidden": true
    },
    "tags": []
   },
   "outputs": [
    {
     "name": "stdout",
     "output_type": "stream",
     "text": [
      "['Bienvenido', 'a', 'KARAOKE', 'fanático', 'de', 'la', 'música!']\n"
     ]
    }
   ],
   "source": [
    "print('Bienvenido a KARAOKE fanático de la música!'.split())"
   ]
  },
  {
   "cell_type": "code",
   "execution_count": 122,
   "id": "21ce50c8-7614-4eed-8014-05885dc12fd8",
   "metadata": {
    "collapsed": true,
    "jupyter": {
     "outputs_hidden": true,
     "source_hidden": true
    },
    "tags": []
   },
   "outputs": [
    {
     "name": "stdout",
     "output_type": "stream",
     "text": [
      "['Por', 'favor', 'elige', 'un', 'género']\n"
     ]
    }
   ],
   "source": [
    "print('Por favor elige un género'.split())"
   ]
  },
  {
   "cell_type": "code",
   "execution_count": 110,
   "id": "b40da614-47e0-4637-83b1-2261c69f1a5e",
   "metadata": {
    "collapsed": true,
    "jupyter": {
     "outputs_hidden": true,
     "source_hidden": true
    },
    "tags": []
   },
   "outputs": [],
   "source": [
    "def karaoke(genero):\n",
    "    contador = 0\n",
    "    print('En sus marcas')\n",
    "    time.sleep(0.5)\n",
    "    print('Listos')\n",
    "    time.sleep(0.5)\n",
    "    print('A CANTAR!')\n",
    "    time.sleep(0.7)\n",
    "    if genero == labios_compartidos:\n",
    "        print('Tocando Labios Compartidos')\n",
    "    elif genero == de_musica_ligera:\n",
    "        print('Tocando De Música Ligera')\n",
    "    else:\n",
    "        print('Tocando Burbujas de Amor')\n",
    "    for palabra in genero:\n",
    "        time.sleep(0.1)\n",
    "        if random.random() < 0.15:\n",
    "            intento = f_limpieza((input('¿Qué palabra viene? ')).lower())\n",
    "            if intento == f_limpieza(palabra.lower()):\n",
    "                print(colored('BIEN ☻','green'))\n",
    "                pass\n",
    "            elif intento != palabra.lower() and contador < 2:\n",
    "                contador = contador + 1\n",
    "                print(colored(f'Llevas {contador} equivocaciones', 'red'))\n",
    "            else:\n",
    "                msg = ('You Loose')\n",
    "                ascii_art = figlet_format(msg, font= \"slant\")\n",
    "                colored_ascii = colored(ascii_art, 'red')\n",
    "                print(colored_ascii)\n",
    "                return\n",
    "            \n",
    "        else:\n",
    "            print(palabra, end = ' ')\n",
    "    time.sleep(3)\n",
    "    msg = ('you win!!')\n",
    "    ascii_art = figlet_format(msg, font= \"doh\")\n",
    "    colored_ascii = colored(ascii_art, 'blue')\n",
    "    print(colored_ascii)"
   ]
  },
  {
   "cell_type": "code",
   "execution_count": 111,
   "id": "9807b458-9a52-4f0c-a500-a62314ad4974",
   "metadata": {
    "collapsed": true,
    "jupyter": {
     "outputs_hidden": true,
     "source_hidden": true
    }
   },
   "outputs": [
    {
     "name": "stdout",
     "output_type": "stream",
     "text": [
      "\u001b[34mhola\u001b[0m\n"
     ]
    }
   ],
   "source": [
    "prueba = colored('hola','blue')\n",
    "print(prueba)"
   ]
  },
  {
   "cell_type": "code",
   "execution_count": 112,
   "id": "4409b83d-e40d-453c-b972-d186e74d38f7",
   "metadata": {
    "collapsed": true,
    "jupyter": {
     "outputs_hidden": true,
     "source_hidden": true
    }
   },
   "outputs": [],
   "source": [
    "def f_limpieza(word):\n",
    "    replacements = (\n",
    "        (\"á\", \"a\"),\n",
    "        (\"é\", \"e\"),\n",
    "        (\"í\", \"i\"),\n",
    "        (\"ó\", \"o\"),\n",
    "        (\"ú\", \"u\"),\n",
    "    )\n",
    "    for a, b in replacements:\n",
    "        word = word.replace(a, b)\n",
    "    return word"
   ]
  },
  {
   "cell_type": "code",
   "execution_count": 113,
   "id": "047a8a0a-6427-4aed-8d89-748455019fe4",
   "metadata": {
    "collapsed": true,
    "jupyter": {
     "outputs_hidden": true,
     "source_hidden": true
    },
    "tags": []
   },
   "outputs": [],
   "source": [
    "def elegir_genero():\n",
    "    Bienvenida = ['Bienvenido', 'a', 'KARAOKE', 'fanático', 'de', 'la', 'música!']\n",
    "    elige = ['Por', 'favor', 'elige', 'un', 'género']\n",
    "    lista_genero=[labios_compartidos, de_musica_ligera, burbujas_de_amor]\n",
    "    for palabra in Bienvenida:\n",
    "        time.sleep(0.2)\n",
    "        print(palabra, end=' ')    \n",
    "    instrucciones = (input('¿Quieres conocer las instrucciones? Ingresa si/no ')).lower()\n",
    "    if instrucciones == 'si':\n",
    "        print('En este juego de karaoke debes adivinar la palabra que sigue.\\nSi te equivocas 3 veces, perderás')\n",
    "    else:\n",
    "        pass\n",
    "    for palabra in elige:\n",
    "        time.sleep(0.2)\n",
    "        print(palabra, end=' ') \n",
    "    eleccion = (input('Escribe\\nA = Pop\\nB = Rock\\nC = Salsa\\nD = Aleatorio\\n')).upper()\n",
    "    if eleccion == 'A':\n",
    "         karaoke(labios_compartidos)\n",
    "    elif eleccion == 'B':\n",
    "         karaoke(de_musica_ligera)\n",
    "    elif eleccion == 'C':\n",
    "          karaoke(burbujas_de_amor)\n",
    "    elif eleccion == 'D':\n",
    "         karaoke(random.choice(lista_genero))\n",
    "    else:\n",
    "         print('Debe ingresar A, B, C, D')"
   ]
  },
  {
   "cell_type": "code",
   "execution_count": 114,
   "id": "54f6ecb4-73c1-41bd-9d1f-37ed9b823bf6",
   "metadata": {
    "collapsed": true,
    "jupyter": {
     "outputs_hidden": true
    },
    "tags": []
   },
   "outputs": [
    {
     "name": "stdout",
     "output_type": "stream",
     "text": [
      "Bienvenido a KARAOKE fanático de la música! "
     ]
    },
    {
     "name": "stdin",
     "output_type": "stream",
     "text": [
      "¿Quieres conocer las instrucciones? Ingresa si/no  no\n"
     ]
    },
    {
     "name": "stdout",
     "output_type": "stream",
     "text": [
      "Por favor elige un género "
     ]
    },
    {
     "name": "stdin",
     "output_type": "stream",
     "text": [
      "Escribe\n",
      "A = Pop\n",
      "B = Rock\n",
      "C = Salsa\n",
      "D = Aleatorio\n",
      " b\n"
     ]
    },
    {
     "name": "stdout",
     "output_type": "stream",
     "text": [
      "En sus marcas\n",
      "Listos\n",
      "A CANTAR!\n",
      "Tocando De Música Ligera\n",
      "Ella durmió al calor de las "
     ]
    },
    {
     "name": "stdin",
     "output_type": "stream",
     "text": [
      "¿Qué palabra viene?  d\n"
     ]
    },
    {
     "name": "stdout",
     "output_type": "stream",
     "text": [
      "\u001b[31mLlevas 1 equivocaciones\u001b[0m\n",
      "Y "
     ]
    },
    {
     "name": "stdin",
     "output_type": "stream",
     "text": [
      "¿Qué palabra viene?  nunca\n"
     ]
    },
    {
     "name": "stdout",
     "output_type": "stream",
     "text": [
      "\u001b[31mLlevas 2 equivocaciones\u001b[0m\n",
      "desperté queriendo soñarla Algún tiempo atrás pensé "
     ]
    },
    {
     "name": "stdin",
     "output_type": "stream",
     "text": [
      "¿Qué palabra viene?  en\n"
     ]
    },
    {
     "name": "stdout",
     "output_type": "stream",
     "text": [
      "\u001b[32mBIEN ☻\u001b[0m\n",
      "escribirle Que "
     ]
    },
    {
     "name": "stdin",
     "output_type": "stream",
     "text": [
      "¿Qué palabra viene?  ll\n"
     ]
    },
    {
     "name": "stdout",
     "output_type": "stream",
     "text": [
      "\u001b[31m__  __               __                        \n",
      "\\ \\/ /___  __  __   / /   ____  ____  ________ \n",
      " \\  / __ \\/ / / /  / /   / __ \\/ __ \\/ ___/ _ \\\n",
      " / / /_/ / /_/ /  / /___/ /_/ / /_/ (__  )  __/\n",
      "/_/\\____/\\__,_/  /_____/\\____/\\____/____/\\___/ \n",
      "                                               \n",
      "\u001b[0m\n"
     ]
    }
   ],
   "source": [
    "elegir_genero()"
   ]
  }
 ],
 "metadata": {
  "kernelspec": {
   "display_name": "Python 3 (ipykernel)",
   "language": "python",
   "name": "python3"
  },
  "language_info": {
   "codemirror_mode": {
    "name": "ipython",
    "version": 3
   },
   "file_extension": ".py",
   "mimetype": "text/x-python",
   "name": "python",
   "nbconvert_exporter": "python",
   "pygments_lexer": "ipython3",
   "version": "3.9.7"
  }
 },
 "nbformat": 4,
 "nbformat_minor": 5
}
