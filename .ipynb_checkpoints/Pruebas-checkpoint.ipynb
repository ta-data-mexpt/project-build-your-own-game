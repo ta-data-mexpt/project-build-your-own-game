{
 "cells": [
  {
   "cell_type": "code",
   "execution_count": 7,
   "id": "be7c9088-5a85-4936-bbcb-a7a97421cdd3",
   "metadata": {},
   "outputs": [],
   "source": [
    "cancion = ('''tu me enamoras\n",
    "cuando me miras\n",
    "ya yo me enteré\n",
    "se nota cuando me ves''').split()"
   ]
  },
  {
   "cell_type": "code",
   "execution_count": 9,
   "id": "32498529-9d46-44e9-ac6a-c94131d4caab",
   "metadata": {},
   "outputs": [
    {
     "name": "stdout",
     "output_type": "stream",
     "text": [
      "['tu', 'me', 'enamoras', 'cuando', 'me', 'miras', 'ya', 'yo', 'me', 'enteré', 'se', 'nota', 'cuando', 'me', 'ves']\n"
     ]
    }
   ],
   "source": [
    "print(cancion)"
   ]
  },
  {
   "cell_type": "code",
   "execution_count": 8,
   "id": "e652fde9-abd1-4a01-b742-ae5540fb6a6b",
   "metadata": {},
   "outputs": [
    {
     "ename": "NameError",
     "evalue": "name 'cancion' is not defined",
     "output_type": "error",
     "traceback": [
      "\u001b[1;31m---------------------------------------------------------------------------\u001b[0m",
      "\u001b[1;31mNameError\u001b[0m                                 Traceback (most recent call last)",
      "\u001b[1;32m~\\AppData\\Local\\Temp/ipykernel_55736/1797099652.py\u001b[0m in \u001b[0;36m<module>\u001b[1;34m\u001b[0m\n\u001b[0;32m      1\u001b[0m \u001b[1;32mimport\u001b[0m \u001b[0mtime\u001b[0m\u001b[1;33m\u001b[0m\u001b[1;33m\u001b[0m\u001b[0m\n\u001b[1;32m----> 2\u001b[1;33m \u001b[1;32mfor\u001b[0m \u001b[0mpalabara\u001b[0m \u001b[1;32min\u001b[0m \u001b[0mcancion\u001b[0m\u001b[1;33m:\u001b[0m\u001b[1;33m\u001b[0m\u001b[1;33m\u001b[0m\u001b[0m\n\u001b[0m\u001b[0;32m      3\u001b[0m     \u001b[0mtime\u001b[0m\u001b[1;33m.\u001b[0m\u001b[0msleep\u001b[0m\u001b[1;33m(\u001b[0m\u001b[1;36m1\u001b[0m\u001b[1;33m)\u001b[0m\u001b[1;33m\u001b[0m\u001b[1;33m\u001b[0m\u001b[0m\n\u001b[0;32m      4\u001b[0m     \u001b[0mprint\u001b[0m\u001b[1;33m(\u001b[0m\u001b[0mpalabara\u001b[0m\u001b[1;33m,\u001b[0m \u001b[0mend\u001b[0m \u001b[1;33m=\u001b[0m \u001b[1;34m' '\u001b[0m\u001b[1;33m)\u001b[0m\u001b[1;33m\u001b[0m\u001b[1;33m\u001b[0m\u001b[0m\n",
      "\u001b[1;31mNameError\u001b[0m: name 'cancion' is not defined"
     ]
    }
   ],
   "source": [
    "for palabara in cancion:\n",
    "    time.sleep(1)\n",
    "    print(palabara, end = ' ')"
   ]
  },
  {
   "cell_type": "code",
   "execution_count": 5,
   "id": "ca7d11ad-738f-4479-a8a6-8f1ebbdabc9b",
   "metadata": {},
   "outputs": [],
   "source": [
    "import time"
   ]
  },
  {
   "cell_type": "code",
   "execution_count": 6,
   "id": "48523d51-a86e-49e5-8845-fd8f91e121c9",
   "metadata": {
    "tags": []
   },
   "outputs": [],
   "source": [
    "labios_compartidos = '''Amor mío\n",
    "Si estoy debajo del vaivén de tus piernas\n",
    "Si estoy hundido en un vaivén de caderas\n",
    "Esto es el cielo, es mi cielo\n",
    "Amor fugado\n",
    "Me tomas, me dejas, me exprimes y me tiras a un lado\n",
    "Te vas a otros cielos y regresas como los colibrís\n",
    "Me tienes como un perro a tus pies\n",
    "Otra vez mi boca insensata\n",
    "Vuelve a caer en tu piel\n",
    "Vuelve a mí tu boca y provoca\n",
    "Vuelvo a caer de tus pechos a tu par de pies\n",
    "Labios compartidos, labios divididos, mi amor\n",
    "Yo no puedo compartir tus labios\n",
    "Que comparto el engaño y comparto mis días y el dolor\n",
    "Ya no puedo compartir tus labios\n",
    "Oh amor, oh amor compartido\n",
    "Amor mutante\n",
    "Amigos con derecho y sin derecho de tenerte siempre\n",
    "Y siempre tengo que esperar paciente\n",
    "El pedazo que me toca de ti\n",
    "Relámpagos de alcohol\n",
    "Las voces solas lloran en el sol, eh\n",
    "Mi boca en llamas torturada\n",
    "Te desnudas angelada, luego te vas\n",
    "Otra vez mi boca insensata\n",
    "Vuelve a caer en tu piel de miel\n",
    "Vuelve a mí tu boca, duele\n",
    "Vuelvo a caer de tus pechos a tu par de pies\n",
    "Labios compartidos, labios divididos, mi amor\n",
    "Yo no puedo compartir tus labios\n",
    "Que comparto el engaño y comparto mis días y el dolor\n",
    "Ya no puedo compartir tus labios\n",
    "Que me parta un rayo\n",
    "Que me entierre el olvido mi amor\n",
    "Pero no puedo más compartir tus labios, compartir tus besos\n",
    "Labios compartidos\n",
    "Te amo con toda mi fe, sin medida\n",
    "Te amo aunque estés compartida\n",
    "Tus labios tiene el control\n",
    "Te amo con toda mi fe, sin medida\n",
    "Te amo aunque estés compartida\n",
    "Tus labios tienen el control\n",
    "Y sigues tú con el control'''"
   ]
  },
  {
   "cell_type": "code",
   "execution_count": 7,
   "id": "f3f1e690-22b3-442e-a895-b76c4fe83633",
   "metadata": {},
   "outputs": [
    {
     "data": {
      "text/plain": [
       "'Amor mío\\nSi estoy debajo del vaivén de tus piernas\\nSi estoy hundido en un vaivén de caderas\\nEsto es el cielo es mi cielo\\nAmor fugado\\nMe tomas me dejas me exprimes y me tiras a un lado\\nTe vas a otros cielos y regresas como los colibrís\\nMe tienes como un perro a tus pies\\nOtra vez mi boca insensata\\nVuelve a caer en tu piel\\nVuelve a mí tu boca y provoca\\nVuelvo a caer de tus pechos a tu par de pies\\nLabios compartidos labios divididos mi amor\\nYo no puedo compartir tus labios\\nQue comparto el engaño y comparto mis días y el dolor\\nYa no puedo compartir tus labios\\nOh amor oh amor compartido\\nAmor mutante\\nAmigos con derecho y sin derecho de tenerte siempre\\nY siempre tengo que esperar paciente\\nEl pedazo que me toca de ti\\nRelámpagos de alcohol\\nLas voces solas lloran en el sol eh\\nMi boca en llamas torturada\\nTe desnudas angelada luego te vas\\nOtra vez mi boca insensata\\nVuelve a caer en tu piel de miel\\nVuelve a mí tu boca duele\\nVuelvo a caer de tus pechos a tu par de pies\\nLabios compartidos labios divididos mi amor\\nYo no puedo compartir tus labios\\nQue comparto el engaño y comparto mis días y el dolor\\nYa no puedo compartir tus labios\\nQue me parta un rayo\\nQue me entierre el olvido mi amor\\nPero no puedo más compartir tus labios compartir tus besos\\nLabios compartidos\\nTe amo con toda mi fe sin medida\\nTe amo aunque estés compartida\\nTus labios tiene el control\\nTe amo con toda mi fe sin medida\\nTe amo aunque estés compartida\\nTus labios tienen el control\\nY sigues tú con el control'"
      ]
     },
     "execution_count": 7,
     "metadata": {},
     "output_type": "execute_result"
    }
   ],
   "source": [
    "labios_compartidos.replace(',','')"
   ]
  },
  {
   "cell_type": "code",
   "execution_count": 8,
   "id": "584c1f5a-df38-4b0c-b2f8-d9cad13890e9",
   "metadata": {},
   "outputs": [],
   "source": [
    "mana = labios_compartidos.split()"
   ]
  },
  {
   "cell_type": "code",
   "execution_count": 32,
   "id": "6b45b1c1-416e-4aec-9c84-ae38300693e3",
   "metadata": {},
   "outputs": [
    {
     "data": {
      "text/plain": [
       "291"
      ]
     },
     "execution_count": 32,
     "metadata": {},
     "output_type": "execute_result"
    }
   ],
   "source": [
    "len(mana)"
   ]
  },
  {
   "cell_type": "code",
   "execution_count": null,
   "id": "87e199f4-fe4d-4223-8898-6783d7795746",
   "metadata": {},
   "outputs": [],
   "source": []
  },
  {
   "cell_type": "code",
   "execution_count": null,
   "id": "40849c9b-e0d9-48d1-881b-48214d9137bb",
   "metadata": {},
   "outputs": [
    {
     "name": "stdout",
     "output_type": "stream",
     "text": [
      "Amor mío Si estoy debajo del vaivén de tus "
     ]
    },
    {
     "name": "stdin",
     "output_type": "stream",
     "text": [
      "¿Qué palabra viene?  lalal\n"
     ]
    },
    {
     "name": "stdout",
     "output_type": "stream",
     "text": [
      "Si estoy hundido en un vaivén "
     ]
    }
   ],
   "source": [
    "import random\n",
    "\n",
    "contador = 0\n",
    "for palabra in mana:\n",
    "    time.sleep(0.1)\n",
    "    if random.random() < 0.05:\n",
    "        intento = (input('¿Qué palabra viene? ')).lower()\n",
    "        if intento == palabra.lower():\n",
    "            pass\n",
    "        elif intento != palabra.lower() and contador < 2:\n",
    "            contador = contador + 1\n",
    "        else:\n",
    "            print('you loose!')\n",
    "            break\n",
    "            \n",
    "    else:\n",
    "        print(palabra, end = ' ')   "
   ]
  }
 ],
 "metadata": {
  "kernelspec": {
   "display_name": "Python 3 (ipykernel)",
   "language": "python",
   "name": "python3"
  },
  "language_info": {
   "codemirror_mode": {
    "name": "ipython",
    "version": 3
   },
   "file_extension": ".py",
   "mimetype": "text/x-python",
   "name": "python",
   "nbconvert_exporter": "python",
   "pygments_lexer": "ipython3",
   "version": "3.9.7"
  }
 },
 "nbformat": 4,
 "nbformat_minor": 5
}
