{
 "cells": [
  {
   "cell_type": "code",
   "execution_count": 53,
   "id": "be7c9088-5a85-4936-bbcb-a7a97421cdd3",
   "metadata": {},
   "outputs": [],
   "source": [
    "cancion = ('''tu me enamoras\n",
    "cuando me miras\n",
    "ya yo me enteré\n",
    "se nota cuando me ves''').split()"
   ]
  },
  {
   "cell_type": "code",
   "execution_count": 54,
   "id": "32498529-9d46-44e9-ac6a-c94131d4caab",
   "metadata": {},
   "outputs": [
    {
     "name": "stdout",
     "output_type": "stream",
     "text": [
      "['tu', 'me', 'enamoras', 'cuando', 'me', 'miras', 'ya', 'yo', 'me', 'enteré', 'se', 'nota', 'cuando', 'me', 'ves']\n"
     ]
    }
   ],
   "source": [
    "print(cancion)"
   ]
  },
  {
   "cell_type": "code",
   "execution_count": 55,
   "id": "e652fde9-abd1-4a01-b742-ae5540fb6a6b",
   "metadata": {},
   "outputs": [
    {
     "name": "stdout",
     "output_type": "stream",
     "text": [
      "tu me enamoras cuando me miras ya yo me enteré se nota cuando me ves "
     ]
    }
   ],
   "source": [
    "for palabara in cancion:\n",
    "    time.sleep(1)\n",
    "    print(palabara, end = ' ')"
   ]
  },
  {
   "cell_type": "code",
   "execution_count": 5,
   "id": "ca7d11ad-738f-4479-a8a6-8f1ebbdabc9b",
   "metadata": {},
   "outputs": [],
   "source": [
    "import time"
   ]
  },
  {
   "cell_type": "code",
   "execution_count": 6,
   "id": "48523d51-a86e-49e5-8845-fd8f91e121c9",
   "metadata": {
    "tags": []
   },
   "outputs": [],
   "source": [
    "labios_compartidos = '''Amor mío\n",
    "Si estoy debajo del vaivén de tus piernas\n",
    "Si estoy hundido en un vaivén de caderas\n",
    "Esto es el cielo, es mi cielo\n",
    "Amor fugado\n",
    "Me tomas, me dejas, me exprimes y me tiras a un lado\n",
    "Te vas a otros cielos y regresas como los colibrís\n",
    "Me tienes como un perro a tus pies\n",
    "Otra vez mi boca insensata\n",
    "Vuelve a caer en tu piel\n",
    "Vuelve a mí tu boca y provoca\n",
    "Vuelvo a caer de tus pechos a tu par de pies\n",
    "Labios compartidos, labios divididos, mi amor\n",
    "Yo no puedo compartir tus labios\n",
    "Que comparto el engaño y comparto mis días y el dolor\n",
    "Ya no puedo compartir tus labios\n",
    "Oh amor, oh amor compartido\n",
    "Amor mutante\n",
    "Amigos con derecho y sin derecho de tenerte siempre\n",
    "Y siempre tengo que esperar paciente\n",
    "El pedazo que me toca de ti\n",
    "Relámpagos de alcohol\n",
    "Las voces solas lloran en el sol, eh\n",
    "Mi boca en llamas torturada\n",
    "Te desnudas angelada, luego te vas\n",
    "Otra vez mi boca insensata\n",
    "Vuelve a caer en tu piel de miel\n",
    "Vuelve a mí tu boca, duele\n",
    "Vuelvo a caer de tus pechos a tu par de pies\n",
    "Labios compartidos, labios divididos, mi amor\n",
    "Yo no puedo compartir tus labios\n",
    "Que comparto el engaño y comparto mis días y el dolor\n",
    "Ya no puedo compartir tus labios\n",
    "Que me parta un rayo\n",
    "Que me entierre el olvido mi amor\n",
    "Pero no puedo más compartir tus labios, compartir tus besos\n",
    "Labios compartidos\n",
    "Te amo con toda mi fe, sin medida\n",
    "Te amo aunque estés compartida\n",
    "Tus labios tiene el control\n",
    "Te amo con toda mi fe, sin medida\n",
    "Te amo aunque estés compartida\n",
    "Tus labios tienen el control\n",
    "Y sigues tú con el control'''"
   ]
  },
  {
   "cell_type": "code",
   "execution_count": 7,
   "id": "f3f1e690-22b3-442e-a895-b76c4fe83633",
   "metadata": {},
   "outputs": [
    {
     "data": {
      "text/plain": [
       "'Amor mío\\nSi estoy debajo del vaivén de tus piernas\\nSi estoy hundido en un vaivén de caderas\\nEsto es el cielo es mi cielo\\nAmor fugado\\nMe tomas me dejas me exprimes y me tiras a un lado\\nTe vas a otros cielos y regresas como los colibrís\\nMe tienes como un perro a tus pies\\nOtra vez mi boca insensata\\nVuelve a caer en tu piel\\nVuelve a mí tu boca y provoca\\nVuelvo a caer de tus pechos a tu par de pies\\nLabios compartidos labios divididos mi amor\\nYo no puedo compartir tus labios\\nQue comparto el engaño y comparto mis días y el dolor\\nYa no puedo compartir tus labios\\nOh amor oh amor compartido\\nAmor mutante\\nAmigos con derecho y sin derecho de tenerte siempre\\nY siempre tengo que esperar paciente\\nEl pedazo que me toca de ti\\nRelámpagos de alcohol\\nLas voces solas lloran en el sol eh\\nMi boca en llamas torturada\\nTe desnudas angelada luego te vas\\nOtra vez mi boca insensata\\nVuelve a caer en tu piel de miel\\nVuelve a mí tu boca duele\\nVuelvo a caer de tus pechos a tu par de pies\\nLabios compartidos labios divididos mi amor\\nYo no puedo compartir tus labios\\nQue comparto el engaño y comparto mis días y el dolor\\nYa no puedo compartir tus labios\\nQue me parta un rayo\\nQue me entierre el olvido mi amor\\nPero no puedo más compartir tus labios compartir tus besos\\nLabios compartidos\\nTe amo con toda mi fe sin medida\\nTe amo aunque estés compartida\\nTus labios tiene el control\\nTe amo con toda mi fe sin medida\\nTe amo aunque estés compartida\\nTus labios tienen el control\\nY sigues tú con el control'"
      ]
     },
     "execution_count": 7,
     "metadata": {},
     "output_type": "execute_result"
    }
   ],
   "source": [
    "labios_compartidos.replace(',','')"
   ]
  },
  {
   "cell_type": "code",
   "execution_count": 6,
   "id": "7fb81512-3d1c-4adb-a80c-7e040f3c5955",
   "metadata": {
    "tags": []
   },
   "outputs": [],
   "source": [
    "labios_compartidos = '''Amor mío\n",
    "Si estoy debajo del vaivén de tus piernas\n",
    "Si estoy hundido en un vaivén de caderas\n",
    "Esto es el cielo, es mi cielo\n",
    "Amor fugado\n",
    "Me tomas, me dejas, me exprimes y me tiras a un lado\n",
    "Te vas a otros cielos y regresas como los colibrís\n",
    "Me tienes como un perro a tus pies\n",
    "Otra vez mi boca insensata\n",
    "Vuelve a caer en tu piel\n",
    "Vuelve a mí tu boca y provoca\n",
    "Vuelvo a caer de tus pechos a tu par de pies\n",
    "Labios compartidos, labios divididos, mi amor\n",
    "Yo no puedo compartir tus labios\n",
    "Que comparto el engaño y comparto mis días y el dolor\n",
    "Ya no puedo compartir tus labios\n",
    "Oh amor, oh amor compartido\n",
    "Amor mutante\n",
    "Amigos con derecho y sin derecho de tenerte siempre\n",
    "Y siempre tengo que esperar paciente\n",
    "El pedazo que me toca de ti\n",
    "Relámpagos de alcohol\n",
    "Las voces solas lloran en el sol, eh\n",
    "Mi boca en llamas torturada\n",
    "Te desnudas angelada, luego te vas\n",
    "Otra vez mi boca insensata\n",
    "Vuelve a caer en tu piel de miel\n",
    "Vuelve a mí tu boca, duele\n",
    "Vuelvo a caer de tus pechos a tu par de pies\n",
    "Labios compartidos, labios divididos, mi amor\n",
    "Yo no puedo compartir tus labios\n",
    "Que comparto el engaño y comparto mis días y el dolor\n",
    "Ya no puedo compartir tus labios\n",
    "Que me parta un rayo\n",
    "Que me entierre el olvido mi amor\n",
    "Pero no puedo más compartir tus labios, compartir tus besos\n",
    "Labios compartidos\n",
    "Te amo con toda mi fe, sin medida\n",
    "Te amo aunque estés compartida\n",
    "Tus labios tiene el control\n",
    "Te amo con toda mi fe, sin medida\n",
    "Te amo aunque estés compartida\n",
    "Tus labios tienen el control\n",
    "Y sigues tú con el control'''"
   ]
  },
  {
   "cell_type": "code",
   "execution_count": 8,
   "id": "584c1f5a-df38-4b0c-b2f8-d9cad13890e9",
   "metadata": {},
   "outputs": [],
   "source": [
    "mana = labios_compartidos.split()"
   ]
  },
  {
   "cell_type": "code",
   "execution_count": 32,
   "id": "6b45b1c1-416e-4aec-9c84-ae38300693e3",
   "metadata": {},
   "outputs": [
    {
     "data": {
      "text/plain": [
       "291"
      ]
     },
     "execution_count": 32,
     "metadata": {},
     "output_type": "execute_result"
    }
   ],
   "source": [
    "len(mana)"
   ]
  },
  {
   "cell_type": "code",
   "execution_count": 22,
   "id": "40849c9b-e0d9-48d1-881b-48214d9137bb",
   "metadata": {},
   "outputs": [
    {
     "name": "stdout",
     "output_type": "stream",
     "text": [
      "Amor mío Si estoy debajo del vaivén de tus piernas Si estoy hundido en "
     ]
    },
    {
     "name": "stdin",
     "output_type": "stream",
     "text": [
      "¿Qué palabra viene?  6\n"
     ]
    },
    {
     "name": "stdout",
     "output_type": "stream",
     "text": [
      "vaivén de caderas Esto es el cielo, es mi cielo Amor fugado Me tomas, me dejas, me exprimes y me tiras a un lado Te "
     ]
    },
    {
     "name": "stdin",
     "output_type": "stream",
     "text": [
      "¿Qué palabra viene?  0.7\n"
     ]
    },
    {
     "name": "stdout",
     "output_type": "stream",
     "text": [
      "a otros cielos y regresas como los colibrís Me "
     ]
    },
    {
     "name": "stdin",
     "output_type": "stream",
     "text": [
      "¿Qué palabra viene?  xspxa\n"
     ]
    },
    {
     "name": "stdout",
     "output_type": "stream",
     "text": [
      "you loose!\n"
     ]
    }
   ],
   "source": [
    "import random\n",
    "\n",
    "contador = 0\n",
    "for palabra in mana:\n",
    "    time.sleep(0.1)\n",
    "    if random.random() < 0.05:\n",
    "        intento = (input('¿Qué palabra viene? ')).lower()\n",
    "        if intento == palabra.lower():\n",
    "            pass\n",
    "        elif intento != palabra.lower() and contador < 2:\n",
    "            contador = contador + 1\n",
    "        else:\n",
    "            print('you loose!')\n",
    "            break\n",
    "            \n",
    "    else:\n",
    "        print(palabra, end = ' ')   "
   ]
  },
  {
   "cell_type": "code",
   "execution_count": 14,
   "id": "7aa38b37-235c-46d1-822f-98cc72f98750",
   "metadata": {},
   "outputs": [],
   "source": [
    "import random\n",
    "\n",
    "def karaoke(genero):\n",
    "    contador = 0\n",
    "    for palabra in genero:\n",
    "        time.sleep(0.1)\n",
    "        if random.random() < 0.05:\n",
    "            intento = (input('¿Qué palabra viene? ')).lower()\n",
    "            if intento == palabra.lower():\n",
    "                pass\n",
    "            elif intento != palabra.lower() and contador < 2:\n",
    "                contador = contador + 1\n",
    "            else:\n",
    "                print('you loose!')\n",
    "                break\n",
    "\n",
    "        else:\n",
    "            print(palabra, end = ' ')   "
   ]
  },
  {
   "cell_type": "code",
   "execution_count": 29,
   "id": "df1fa65e-bbf1-48d0-b6e3-803c05aeee93",
   "metadata": {},
   "outputs": [],
   "source": [
    "soda = ['Ella', 'durmió', 'al', 'calor', 'de', 'las', 'masas', 'Y', 'yo', 'desperté', 'queriendo', 'soñarla', 'Algún', 'tiempo', 'atrás', 'pensé', 'en', 'escribirle', 'Que', 'nunca', 'sorteé', 'las', 'trampas', 'del', 'amor', 'De', 'aquel', 'amor', 'De', 'música', 'ligera', 'Nada', 'nos', 'libra', 'Nada', 'más', 'queda', 'No', 'le', 'enviaré', 'cenizas', 'de', 'rosas', 'Ni', 'pienso', 'evitar', 'un', 'roce', 'secreto', 'De', 'aquel', 'amor', 'De', 'música', 'ligera', 'Nada', 'nos', 'libra', 'Nada', 'más', 'queda', 'De', 'aquel', 'amor', 'De', 'música', 'ligera', 'Nada', 'nos', 'libra', 'Nada', 'más', 'queda', 'Nada', 'más...', 'Nada', 'más', 'queda', 'Nada', 'más', 'queda', 'Nada', 'más', 'queda', 'Nada', 'más', 'queda']\n"
   ]
  },
  {
   "cell_type": "code",
   "execution_count": 41,
   "id": "b9b2aaf9-a31c-4604-aeaf-43886d4d4df4",
   "metadata": {},
   "outputs": [],
   "source": [
    "import random\n",
    "\n",
    "def karaoke(genero):\n",
    "    contador = 0\n",
    "    for palabra in genero:\n",
    "        time.sleep(0.1)\n",
    "        if random.choice(genero[5:]) == palabra:\n",
    "            intento = (input('¿Qué palabra viene? ')).lower()\n",
    "            if intento == palabra.lower():\n",
    "                pass\n",
    "            elif intento != palabra.lower() and contador < 2:\n",
    "                contador = contador + 1\n",
    "            else:\n",
    "                print('you loose!')\n",
    "                break\n",
    "\n",
    "        else:\n",
    "            print(palabra, end = ' ')\n",
    "    time.sleep(5)\n",
    "    print('\\nLo lograste!!')"
   ]
  },
  {
   "cell_type": "code",
   "execution_count": 42,
   "id": "c4e6049a-6a3b-452e-965f-9651e2e634a8",
   "metadata": {},
   "outputs": [
    {
     "name": "stdout",
     "output_type": "stream",
     "text": [
      "Ella durmió al calor de las masas Y yo desperté queriendo soñarla Algún tiempo atrás pensé en escribirle Que nunca sorteé las trampas del amor De aquel amor De música ligera Nada "
     ]
    },
    {
     "name": "stdin",
     "output_type": "stream",
     "text": [
      "¿Qué palabra viene?  nos\n"
     ]
    },
    {
     "name": "stdout",
     "output_type": "stream",
     "text": [
      "libra Nada más queda No le enviaré cenizas de rosas Ni pienso evitar un roce secreto De aquel amor De música ligera Nada nos libra Nada más queda De aquel amor De música ligera Nada nos libra "
     ]
    },
    {
     "name": "stdin",
     "output_type": "stream",
     "text": [
      "¿Qué palabra viene?  nada\n"
     ]
    },
    {
     "name": "stdout",
     "output_type": "stream",
     "text": [
      "más queda Nada más... Nada más queda "
     ]
    },
    {
     "name": "stdin",
     "output_type": "stream",
     "text": [
      "¿Qué palabra viene?  nada\n"
     ]
    },
    {
     "name": "stdout",
     "output_type": "stream",
     "text": [
      "más queda Nada más queda Nada más queda \n",
      "Lo lograste!!\n"
     ]
    }
   ],
   "source": [
    "karaoke(soda)"
   ]
  },
  {
   "cell_type": "code",
   "execution_count": 57,
   "id": "9b055e0b-7853-4dd0-afee-23651352a997",
   "metadata": {},
   "outputs": [],
   "source": [
    "import random\n",
    "\n",
    "def karaoke(genero):\n",
    "    contador = 0\n",
    "    lista_de_palabras = random.choices(genero, k=5)\n",
    "    print(lista_de_palabras)\n",
    "    for palabra in genero:\n",
    "        time.sleep(0.1)\n",
    "        if random.choice(lista_de_palabras) == palabra :\n",
    "            intento = (input('¿Qué palabra viene? ')).lower()\n",
    "            if intento == palabra.lower():\n",
    "                pass\n",
    "            elif intento != palabra.lower() and contador < 2:\n",
    "                contador = contador + 1\n",
    "            else:\n",
    "                print('you loose!')\n",
    "                break\n",
    "\n",
    "        else:\n",
    "            print(palabra, end = ' ')\n",
    "    time.sleep(3)\n",
    "    print('\\nLo lograste!!')"
   ]
  },
  {
   "cell_type": "code",
   "execution_count": 43,
   "id": "14b6fb47-4e43-46a0-ba09-13cae0ded2d7",
   "metadata": {},
   "outputs": [
    {
     "data": {
      "text/plain": [
       "['Si', 'labios,', 'compartidos', 'Esto', 'tu']"
      ]
     },
     "execution_count": 43,
     "metadata": {},
     "output_type": "execute_result"
    }
   ],
   "source": [
    "random.choices(mana, k=5)"
   ]
  },
  {
   "cell_type": "code",
   "execution_count": 58,
   "id": "214260af-3280-4150-a267-d963a9750942",
   "metadata": {},
   "outputs": [
    {
     "name": "stdout",
     "output_type": "stream",
     "text": [
      "['par', 'a', 'Me', 'cielo', 'piel']\n",
      "Amor \n",
      "Lo lograste!!\n",
      "mío \n",
      "Lo lograste!!\n",
      "Si \n",
      "Lo lograste!!\n",
      "estoy \n",
      "Lo lograste!!\n",
      "debajo \n",
      "Lo lograste!!\n",
      "del \n",
      "Lo lograste!!\n",
      "vaivén \n",
      "Lo lograste!!\n",
      "de \n",
      "Lo lograste!!\n",
      "tus \n",
      "Lo lograste!!\n",
      "piernas \n",
      "Lo lograste!!\n",
      "Si \n",
      "Lo lograste!!\n",
      "estoy \n",
      "Lo lograste!!\n",
      "hundido \n",
      "Lo lograste!!\n",
      "en \n",
      "Lo lograste!!\n",
      "un \n",
      "Lo lograste!!\n",
      "vaivén \n",
      "Lo lograste!!\n",
      "de \n",
      "Lo lograste!!\n",
      "caderas \n",
      "Lo lograste!!\n",
      "Esto \n",
      "Lo lograste!!\n",
      "es \n",
      "Lo lograste!!\n",
      "el \n",
      "Lo lograste!!\n",
      "cielo, \n",
      "Lo lograste!!\n",
      "es \n",
      "Lo lograste!!\n",
      "mi \n",
      "Lo lograste!!\n",
      "cielo \n",
      "Lo lograste!!\n",
      "Amor \n",
      "Lo lograste!!\n",
      "fugado \n",
      "Lo lograste!!\n",
      "Me \n",
      "Lo lograste!!\n",
      "tomas, \n",
      "Lo lograste!!\n",
      "me \n",
      "Lo lograste!!\n",
      "dejas, \n",
      "Lo lograste!!\n",
      "me \n",
      "Lo lograste!!\n",
      "exprimes \n",
      "Lo lograste!!\n",
      "y \n",
      "Lo lograste!!\n",
      "me \n",
      "Lo lograste!!\n",
      "tiras \n",
      "Lo lograste!!\n",
      "a \n",
      "Lo lograste!!\n",
      "un \n",
      "Lo lograste!!\n",
      "lado \n",
      "Lo lograste!!\n",
      "Te \n",
      "Lo lograste!!\n",
      "vas \n",
      "Lo lograste!!\n",
      "a \n",
      "Lo lograste!!\n",
      "otros \n",
      "Lo lograste!!\n",
      "cielos "
     ]
    },
    {
     "ename": "KeyboardInterrupt",
     "evalue": "",
     "output_type": "error",
     "traceback": [
      "\u001b[1;31m---------------------------------------------------------------------------\u001b[0m",
      "\u001b[1;31mKeyboardInterrupt\u001b[0m                         Traceback (most recent call last)",
      "\u001b[1;32m~\\AppData\\Local\\Temp/ipykernel_80300/3353406178.py\u001b[0m in \u001b[0;36m<module>\u001b[1;34m\u001b[0m\n\u001b[1;32m----> 1\u001b[1;33m \u001b[0mkaraoke\u001b[0m\u001b[1;33m(\u001b[0m\u001b[0mmana\u001b[0m\u001b[1;33m)\u001b[0m\u001b[1;33m\u001b[0m\u001b[1;33m\u001b[0m\u001b[0m\n\u001b[0m",
      "\u001b[1;32m~\\AppData\\Local\\Temp/ipykernel_80300/41039210.py\u001b[0m in \u001b[0;36mkaraoke\u001b[1;34m(genero)\u001b[0m\n\u001b[0;32m     19\u001b[0m         \u001b[1;32melse\u001b[0m\u001b[1;33m:\u001b[0m\u001b[1;33m\u001b[0m\u001b[1;33m\u001b[0m\u001b[0m\n\u001b[0;32m     20\u001b[0m             \u001b[0mprint\u001b[0m\u001b[1;33m(\u001b[0m\u001b[0mpalabra\u001b[0m\u001b[1;33m,\u001b[0m \u001b[0mend\u001b[0m \u001b[1;33m=\u001b[0m \u001b[1;34m' '\u001b[0m\u001b[1;33m)\u001b[0m\u001b[1;33m\u001b[0m\u001b[1;33m\u001b[0m\u001b[0m\n\u001b[1;32m---> 21\u001b[1;33m         \u001b[0mtime\u001b[0m\u001b[1;33m.\u001b[0m\u001b[0msleep\u001b[0m\u001b[1;33m(\u001b[0m\u001b[1;36m3\u001b[0m\u001b[1;33m)\u001b[0m\u001b[1;33m\u001b[0m\u001b[1;33m\u001b[0m\u001b[0m\n\u001b[0m\u001b[0;32m     22\u001b[0m         \u001b[0mprint\u001b[0m\u001b[1;33m(\u001b[0m\u001b[1;34m'\\nLo lograste!!'\u001b[0m\u001b[1;33m)\u001b[0m\u001b[1;33m\u001b[0m\u001b[1;33m\u001b[0m\u001b[0m\n",
      "\u001b[1;31mKeyboardInterrupt\u001b[0m: "
     ]
    }
   ],
   "source": [
    "karaoke(mana)"
   ]
  },
  {
   "cell_type": "code",
   "execution_count": 69,
   "id": "78978cfd-d088-4804-9b82-f8fe927f3b4b",
   "metadata": {},
   "outputs": [],
   "source": [
    "import random\n",
    "\n",
    "def karaoke(genero):\n",
    "    contador = 0\n",
    "    for palabra in genero:\n",
    "        time.sleep(0.1)\n",
    "        if random.random() < 0.05:\n",
    "            intento = (input('¿Qué palabra viene? ')).lower()\n",
    "            if intento == palabra.lower():\n",
    "                pass\n",
    "            elif intento != palabra.lower() and contador < 2:\n",
    "                contador = contador + 1\n",
    "            else:\n",
    "                print('you loose!')\n",
    "                break\n",
    "\n",
    "        else:\n",
    "            print(palabra, end = ' ')"
   ]
  },
  {
   "cell_type": "code",
   "execution_count": 72,
   "id": "1667224a-9974-46a5-ab3b-5cef76ae01e9",
   "metadata": {},
   "outputs": [
    {
     "name": "stdout",
     "output_type": "stream",
     "text": [
      "Amor mío Si estoy debajo del vaivén de tus piernas Si estoy hundido en un vaivén de caderas Esto es el cielo, es "
     ]
    },
    {
     "name": "stdin",
     "output_type": "stream",
     "text": [
      "¿Qué palabra viene?  ll\n"
     ]
    },
    {
     "name": "stdout",
     "output_type": "stream",
     "text": [
      "cielo Amor fugado Me tomas, me dejas, me exprimes y me tiras a un lado Te vas a otros cielos y regresas como los colibrís Me tienes como un perro a tus pies Otra vez mi boca insensata Vuelve a caer en tu piel Vuelve a mí tu boca y provoca Vuelvo a caer de tus pechos a tu par "
     ]
    },
    {
     "name": "stdin",
     "output_type": "stream",
     "text": [
      "¿Qué palabra viene?  ll\n"
     ]
    },
    {
     "name": "stdout",
     "output_type": "stream",
     "text": [
      "pies Labios compartidos, labios divididos, mi amor Yo no puedo compartir tus labios Que comparto el engaño "
     ]
    },
    {
     "name": "stdin",
     "output_type": "stream",
     "text": [
      "¿Qué palabra viene?  ll\n"
     ]
    },
    {
     "name": "stdout",
     "output_type": "stream",
     "text": [
      "you loose!\n"
     ]
    }
   ],
   "source": [
    "karaoke(mana)"
   ]
  },
  {
   "cell_type": "code",
   "execution_count": 5,
   "id": "9bb97f31-38a1-43e0-b00b-e73ea4623308",
   "metadata": {},
   "outputs": [
    {
     "data": {
      "text/plain": [
       "'canciÓn'"
      ]
     },
     "execution_count": 8,
     "metadata": {},
     "output_type": "execute_result"
    }
   ],
   "source": [
    "def normalize(s):\n",
    "    replacements = (\n",
    "        (\"á\", \"a\"),\n",
    "        (\"é\", \"e\"),\n",
    "        (\"í\", \"i\"),\n",
    "        (\"ó\", \"o\"),\n",
    "        (\"ú\", \"u\"),\n",
    "    )\n",
    "    for a, b in replacements:\n",
    "        s = s.replace(a, b)\n",
    "    return s\n",
    "    \n",
    "normalize('canción')  "
   ]
  },
  {
   "cell_type": "code",
   "execution_count": 9,
   "id": "63f03906-2ea0-4721-86c1-6dad755bf196",
   "metadata": {},
   "outputs": [
    {
     "name": "stdout",
     "output_type": "stream",
     "text": [
      "¡Hola, mundo!\n",
      "¡HÓLÁ, MÚNDÓ!\n"
     ]
    }
   ],
   "source": [
    "def normalize(s):\n",
    "    replacements = (\n",
    "        (\"á\", \"a\"),\n",
    "        (\"é\", \"e\"),\n",
    "        (\"í\", \"i\"),\n",
    "        (\"ó\", \"o\"),\n",
    "        (\"ú\", \"u\"),\n",
    "    )\n",
    "    for a, b in replacements:\n",
    "        s = s.replace(a, b)\n",
    "    return s\n",
    "\n",
    "print(normalize(\"¡Hólá, múndó!\"))\n",
    "print(normalize(\"¡HÓLÁ, MÚNDÓ!\"))"
   ]
  }
 ],
 "metadata": {
  "kernelspec": {
   "display_name": "Python 3 (ipykernel)",
   "language": "python",
   "name": "python3"
  },
  "language_info": {
   "codemirror_mode": {
    "name": "ipython",
    "version": 3
   },
   "file_extension": ".py",
   "mimetype": "text/x-python",
   "name": "python",
   "nbconvert_exporter": "python",
   "pygments_lexer": "ipython3",
   "version": "3.9.7"
  }
 },
 "nbformat": 4,
 "nbformat_minor": 5
}
