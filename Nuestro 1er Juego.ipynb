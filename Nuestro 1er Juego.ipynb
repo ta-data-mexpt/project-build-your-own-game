{
 "cells": [
  {
   "cell_type": "code",
   "execution_count": 1,
   "id": "f0eaa6c7-8875-48b6-9679-d28b9855c193",
   "metadata": {
    "jupyter": {
     "source_hidden": true
    },
    "tags": []
   },
   "outputs": [
    {
     "name": "stdin",
     "output_type": "stream",
     "text": [
      "Nombre jugador 1:  Antonia\n",
      "Nombre jugador 2:  Javiera\n"
     ]
    },
    {
     "name": "stdout",
     "output_type": "stream",
     "text": [
      "\n",
      "La mano de Antonia es ['2♠', 'J♣', 'A♠', '5♠', '9♠', 'A♦']\n",
      "La mano de Javiera es ['10♣', '8♠', '3♠', '3♥', 'K♠', '9♣']\n",
      "\n",
      "\n",
      "        00        \n",
      "      01  02      \n",
      "    03  04  05    \n",
      "  06  07  08  09  \n",
      "10  11  12  13  14\n",
      "\n",
      "----------------------------------------------\n",
      "\n"
     ]
    },
    {
     "name": "stdin",
     "output_type": "stream",
     "text": [
      "Antonia, escoge una carta de la piramide:  02\n"
     ]
    },
    {
     "name": "stdout",
     "output_type": "stream",
     "text": [
      "\n",
      "\n",
      "        00        \n",
      "      01  9♦      \n",
      "    03  04  05    \n",
      "  06  07  08  09  \n",
      "10  11  12  13  14\n",
      "\n",
      "Antonia, bebe 5 segundos!\n",
      "\n",
      "La carta escogida es: 9♦\n",
      "\n",
      "Tu mano es: ['2♠', 'J♣', 'A♠', '5♠', '9♠', 'A♦']\n",
      "\n",
      "Javiera, bebe 5 segundos!\n",
      "\n",
      "La mano de Javiera es: ['10♣', '8♠', '3♠', '3♥', 'K♠', '9♣']\n",
      "\n",
      "----------------------------------------------\n",
      "\n"
     ]
    },
    {
     "name": "stdin",
     "output_type": "stream",
     "text": [
      "Javiera, escoge una carta de la piramide:  00\n"
     ]
    },
    {
     "name": "stdout",
     "output_type": "stream",
     "text": [
      "['02', '00']\n",
      "\n",
      "\n",
      "        6♥        \n",
      "      01  9♦      \n",
      "    03  04  05    \n",
      "  06  07  08  09  \n",
      "10  11  12  13  14\n",
      "\n",
      "Javiera, te salvaste!\n",
      "\n",
      "La carta escogida es: 6♥\n",
      "\n",
      "Tu mano es: ['10♣', '8♠', '3♠', '3♥', 'K♠', '9♣']\n",
      "\n",
      "Antonia, te salvaste!\n",
      "\n",
      "La mano de Antonia es: ['2♠', 'J♣', 'A♠', '5♠', '9♠', 'A♦']\n",
      "\n",
      "----------------------------------------------\n",
      "\n"
     ]
    },
    {
     "name": "stdin",
     "output_type": "stream",
     "text": [
      "Antonia, escoge una carta de la piramide:  01\n"
     ]
    },
    {
     "name": "stdout",
     "output_type": "stream",
     "text": [
      "\n",
      "\n",
      "        6♥        \n",
      "      5♦  9♦      \n",
      "    03  04  05    \n",
      "  06  07  08  09  \n",
      "10  11  12  13  14\n",
      "\n",
      "Antonia, bebe 5 segundos!\n",
      "\n",
      "La carta escogida es: 5♦\n",
      "\n",
      "Tu mano es: ['2♠', 'J♣', 'A♠', '5♠', '9♠', 'A♦']\n",
      "\n",
      "Javiera, te salvaste!\n",
      "\n",
      "La mano de Javiera es: ['10♣', '8♠', '3♠', '3♥', 'K♠', '9♣']\n",
      "\n",
      "----------------------------------------------\n",
      "\n"
     ]
    },
    {
     "name": "stdin",
     "output_type": "stream",
     "text": [
      "Javiera, escoge una carta de la piramide:  03\n"
     ]
    },
    {
     "name": "stdout",
     "output_type": "stream",
     "text": [
      "['02', '00', '01', '03']\n",
      "\n",
      "\n",
      "        6♥        \n",
      "      5♦  9♦      \n",
      "    Q♣  04  05    \n",
      "  06  07  08  09  \n",
      "10  11  12  13  14\n",
      "\n",
      "Javiera, te salvaste!\n",
      "\n",
      "La carta escogida es: Q♣\n",
      "\n",
      "Tu mano es: ['10♣', '8♠', '3♠', '3♥', 'K♠', '9♣']\n",
      "\n",
      "Antonia, te salvaste!\n",
      "\n",
      "La mano de Antonia es: ['2♠', 'J♣', 'A♠', '5♠', '9♠', 'A♦']\n",
      "\n",
      "----------------------------------------------\n",
      "\n"
     ]
    },
    {
     "name": "stdin",
     "output_type": "stream",
     "text": [
      "Antonia, escoge una carta de la piramide:  04\n"
     ]
    },
    {
     "name": "stdout",
     "output_type": "stream",
     "text": [
      "\n",
      "\n",
      "        6♥        \n",
      "      5♦  9♦      \n",
      "    Q♣  K♥  05    \n",
      "  06  07  08  09  \n",
      "10  11  12  13  14\n",
      "\n",
      "Antonia, te salvaste!\n",
      "\n",
      "La carta escogida es: K♥\n",
      "\n",
      "Tu mano es: ['2♠', 'J♣', 'A♠', '5♠', '9♠', 'A♦']\n",
      "\n",
      "Javiera, bebe 5 segundos!\n",
      "\n",
      "La mano de Javiera es: ['10♣', '8♠', '3♠', '3♥', 'K♠', '9♣']\n",
      "\n",
      "----------------------------------------------\n",
      "\n"
     ]
    },
    {
     "name": "stdin",
     "output_type": "stream",
     "text": [
      "Javiera, escoge una carta de la piramide:  05\n"
     ]
    },
    {
     "name": "stdout",
     "output_type": "stream",
     "text": [
      "['02', '00', '01', '03', '04', '05']\n",
      "\n",
      "\n",
      "        6♥        \n",
      "      5♦  9♦      \n",
      "    Q♣  K♥  5♣    \n",
      "  06  07  08  09  \n",
      "10  11  12  13  14\n",
      "\n",
      "Javiera, te salvaste!\n",
      "\n",
      "La carta escogida es: 5♣\n",
      "\n",
      "Tu mano es: ['10♣', '8♠', '3♠', '3♥', 'K♠', '9♣']\n",
      "\n",
      "Antonia, bebe 5 segundos!\n",
      "\n",
      "La mano de Antonia es: ['2♠', 'J♣', 'A♠', '5♠', '9♠', 'A♦']\n",
      "\n",
      "----------------------------------------------\n",
      "\n"
     ]
    },
    {
     "name": "stdin",
     "output_type": "stream",
     "text": [
      "Antonia, escoge una carta de la piramide:  06\n"
     ]
    },
    {
     "name": "stdout",
     "output_type": "stream",
     "text": [
      "\n",
      "\n",
      "        6♥        \n",
      "      5♦  9♦      \n",
      "    Q♣  K♥  5♣    \n",
      " 10♠  07  08  09  \n",
      "10  11  12  13  14\n",
      "\n",
      "Antonia, te salvaste!\n",
      "\n",
      "La carta escogida es: 10♠\n",
      "\n",
      "Tu mano es: ['2♠', 'J♣', 'A♠', '5♠', '9♠', 'A♦']\n",
      "\n",
      "Javiera, bebe 5 segundos!\n",
      "\n",
      "La mano de Javiera es: ['10♣', '8♠', '3♠', '3♥', 'K♠', '9♣']\n",
      "\n",
      "----------------------------------------------\n",
      "\n"
     ]
    },
    {
     "name": "stdin",
     "output_type": "stream",
     "text": [
      "Javiera, escoge una carta de la piramide:  07\n"
     ]
    },
    {
     "name": "stdout",
     "output_type": "stream",
     "text": [
      "['02', '00', '01', '03', '04', '05', '06', '07']\n",
      "\n",
      "\n",
      "        6♥        \n",
      "      5♦  9♦      \n",
      "    Q♣  K♥  5♣    \n",
      " 10♠  J♦  08  09  \n",
      "10  11  12  13  14\n",
      "\n",
      "Javiera, te salvaste!\n",
      "\n",
      "La carta escogida es: J♦\n",
      "\n",
      "Tu mano es: ['10♣', '8♠', '3♠', '3♥', 'K♠', '9♣']\n",
      "\n",
      "Antonia, bebe 5 segundos!\n",
      "\n",
      "La mano de Antonia es: ['2♠', 'J♣', 'A♠', '5♠', '9♠', 'A♦']\n",
      "\n",
      "----------------------------------------------\n",
      "\n"
     ]
    },
    {
     "name": "stdin",
     "output_type": "stream",
     "text": [
      "Antonia, escoge una carta de la piramide:  08\n"
     ]
    },
    {
     "name": "stdout",
     "output_type": "stream",
     "text": [
      "\n",
      "\n",
      "        6♥        \n",
      "      5♦  9♦      \n",
      "    Q♣  K♥  5♣    \n",
      " 10♠  J♦  9♥  09  \n",
      "10  11  12  13  14\n",
      "\n",
      "Antonia, bebe 5 segundos!\n",
      "\n",
      "La carta escogida es: 9♥\n",
      "\n",
      "Tu mano es: ['2♠', 'J♣', 'A♠', '5♠', '9♠', 'A♦']\n",
      "\n",
      "Javiera, bebe 5 segundos!\n",
      "\n",
      "La mano de Javiera es: ['10♣', '8♠', '3♠', '3♥', 'K♠', '9♣']\n",
      "\n",
      "----------------------------------------------\n",
      "\n"
     ]
    },
    {
     "name": "stdin",
     "output_type": "stream",
     "text": [
      "Javiera, escoge una carta de la piramide:  09\n"
     ]
    },
    {
     "name": "stdout",
     "output_type": "stream",
     "text": [
      "['02', '00', '01', '03', '04', '05', '06', '07', '08', '09']\n",
      "\n",
      "\n",
      "        6♥        \n",
      "      5♦  9♦      \n",
      "    Q♣  K♥  5♣    \n",
      " 10♠  J♦  9♥  5♥  \n",
      "10  11  12  13  14\n",
      "\n",
      "Javiera, te salvaste!\n",
      "\n",
      "La carta escogida es: 5♥\n",
      "\n",
      "Tu mano es: ['10♣', '8♠', '3♠', '3♥', 'K♠', '9♣']\n",
      "\n",
      "Antonia, bebe 5 segundos!\n",
      "\n",
      "La mano de Antonia es: ['2♠', 'J♣', 'A♠', '5♠', '9♠', 'A♦']\n",
      "\n",
      "----------------------------------------------\n",
      "\n"
     ]
    },
    {
     "name": "stdin",
     "output_type": "stream",
     "text": [
      "Antonia, escoge una carta de la piramide:  10\n"
     ]
    },
    {
     "name": "stdout",
     "output_type": "stream",
     "text": [
      "\n",
      "\n",
      "        6♥        \n",
      "      5♦  9♦      \n",
      "    Q♣  K♥  5♣    \n",
      " 10♠  J♦  9♥  5♥  \n",
      "8♦  11  12  13  14\n",
      "\n",
      "Antonia, te salvaste!\n",
      "\n",
      "La carta escogida es: 8♦\n",
      "\n",
      "Tu mano es: ['2♠', 'J♣', 'A♠', '5♠', '9♠', 'A♦']\n",
      "\n",
      "Javiera, bebe 5 segundos!\n",
      "\n",
      "La mano de Javiera es: ['10♣', '8♠', '3♠', '3♥', 'K♠', '9♣']\n",
      "\n",
      "----------------------------------------------\n",
      "\n"
     ]
    },
    {
     "name": "stdin",
     "output_type": "stream",
     "text": [
      "Javiera, escoge una carta de la piramide:  11\n"
     ]
    },
    {
     "name": "stdout",
     "output_type": "stream",
     "text": [
      "['02', '00', '01', '03', '04', '05', '06', '07', '08', '09', '10', '11']\n",
      "\n",
      "\n",
      "        6♥        \n",
      "      5♦  9♦      \n",
      "    Q♣  K♥  5♣    \n",
      " 10♠  J♦  9♥  5♥  \n",
      "8♦  7♠  12  13  14\n",
      "\n",
      "Javiera, te salvaste!\n",
      "\n",
      "La carta escogida es: 7♠\n",
      "\n",
      "Tu mano es: ['10♣', '8♠', '3♠', '3♥', 'K♠', '9♣']\n",
      "\n",
      "Antonia, te salvaste!\n",
      "\n",
      "La mano de Antonia es: ['2♠', 'J♣', 'A♠', '5♠', '9♠', 'A♦']\n",
      "\n",
      "----------------------------------------------\n",
      "\n"
     ]
    },
    {
     "name": "stdin",
     "output_type": "stream",
     "text": [
      "Antonia, escoge una carta de la piramide:  12\n"
     ]
    },
    {
     "name": "stdout",
     "output_type": "stream",
     "text": [
      "\n",
      "\n",
      "        6♥        \n",
      "      5♦  9♦      \n",
      "    Q♣  K♥  5♣    \n",
      " 10♠  J♦  9♥  5♥  \n",
      "8♦  7♠  Q♥  13  14\n",
      "\n",
      "Antonia, te salvaste!\n",
      "\n",
      "La carta escogida es: Q♥\n",
      "\n",
      "Tu mano es: ['2♠', 'J♣', 'A♠', '5♠', '9♠', 'A♦']\n",
      "\n",
      "Javiera, te salvaste!\n",
      "\n",
      "La mano de Javiera es: ['10♣', '8♠', '3♠', '3♥', 'K♠', '9♣']\n",
      "\n",
      "----------------------------------------------\n",
      "\n"
     ]
    },
    {
     "name": "stdin",
     "output_type": "stream",
     "text": [
      "Javiera, escoge una carta de la piramide:  13\n"
     ]
    },
    {
     "name": "stdout",
     "output_type": "stream",
     "text": [
      "['02', '00', '01', '03', '04', '05', '06', '07', '08', '09', '10', '11', '12', '13']\n",
      "\n",
      "\n",
      "        6♥        \n",
      "      5♦  9♦      \n",
      "    Q♣  K♥  5♣    \n",
      " 10♠  J♦  9♥  5♥  \n",
      "8♦  7♠  Q♥  4♦  14\n",
      "\n",
      "Javiera, te salvaste!\n",
      "\n",
      "La carta escogida es: 4♦\n",
      "\n",
      "Tu mano es: ['10♣', '8♠', '3♠', '3♥', 'K♠', '9♣']\n",
      "\n",
      "Antonia, te salvaste!\n",
      "\n",
      "La mano de Antonia es: ['2♠', 'J♣', 'A♠', '5♠', '9♠', 'A♦']\n",
      "\n",
      "----------------------------------------------\n",
      "\n"
     ]
    },
    {
     "name": "stdin",
     "output_type": "stream",
     "text": [
      "Antonia, escoge una carta de la piramide:  14\n"
     ]
    },
    {
     "name": "stdout",
     "output_type": "stream",
     "text": [
      "\n",
      "\n",
      "        6♥        \n",
      "      5♦  9♦      \n",
      "    Q♣  K♥  5♣    \n",
      " 10♠  J♦  9♥  5♥  \n",
      "8♦  7♠  Q♥  4♦  6♠\n",
      "\n",
      "Antonia, te salvaste!\n",
      "\n",
      "La carta escogida es: 6♠\n",
      "\n",
      "Tu mano es: ['2♠', 'J♣', 'A♠', '5♠', '9♠', 'A♦']\n",
      "\n",
      "Javiera, te salvaste!\n",
      "\n",
      "La mano de Javiera es: ['10♣', '8♠', '3♠', '3♥', 'K♠', '9♣']\n",
      "\n",
      "----------------------------------------------\n",
      "\n",
      "¡¡¡FELICIDADES ESTAN BORRACHOS!!!\n"
     ]
    }
   ],
   "source": [
    "jugadores = []\n",
    "\n",
    "while len(jugadores) < 2:\n",
    "    jugadores.append(input(\"Nombre jugador 1: \"))\n",
    "    jugadores.append(input(\"Nombre jugador 2: \"))\n",
    "\n",
    "pinta = ['♣','♦','♠','♥']\n",
    "valores = ['A','2','3','4','5','6','7','8','9','10','J','Q','K']\n",
    "\n",
    "mazo_cartas = []\n",
    "\n",
    "for elemento in pinta:\n",
    "    for valor in valores:\n",
    "        mazo_cartas.append(str(valor)+elemento)\n",
    "        \n",
    "import random\n",
    "\n",
    "cartas_piramide = random.sample(mazo_cartas, 15) # Escogemos 15 cartas al azar para armar la pirámide.\n",
    "cartas_after_piramide = [] # Creamos una lista con las cartas que quedan después de armar la pirámide.\n",
    "\n",
    "for carta in cartas_piramide:\n",
    "    if carta in mazo_cartas:\n",
    "        cartas_after_piramide = set(mazo_cartas) - set(cartas_piramide)\n",
    "\n",
    "import warnings\n",
    "warnings.filterwarnings(\"ignore\")\n",
    "\n",
    "mano_jugador1 = random.sample(cartas_after_piramide, 6)\n",
    "for carta in mano_jugador1:\n",
    "    cartas_after_piramide.remove(carta)\n",
    "    mano_jugador2 = random.sample(cartas_after_piramide, 6)\n",
    "print(f'\\nLa mano de {jugadores[0]} es {mano_jugador1}\\nLa mano de {jugadores[1]} es {mano_jugador2}')\n",
    "mano_jugador1_valores = []\n",
    "mano_jugador2_valores = []\n",
    "\n",
    "for x in mano_jugador1:\n",
    "    mano_jugador1_valores.append(x[:-1])\n",
    "for y in mano_jugador2:\n",
    "    mano_jugador2_valores.append(y[:-1])\n",
    "    \n",
    "    \n",
    "volteadas = {card:str(cartas_piramide.index(card)).zfill(2) for card in cartas_piramide}\n",
    "print('\\n')\n",
    "def print_carta(*cartas):\n",
    "        cartas = [volteadas.get(carta, i) for carta in cartas]\n",
    "        juntos = '  '.join(cartas)\n",
    "        print('{:^18s}'.format(juntos))\n",
    "\n",
    "cartas_piramide_copia = cartas_piramide.copy()\n",
    "    \n",
    "for i in range(1,6):\n",
    "    renglon = []\n",
    "    for _ in range(i):\n",
    "        renglon.append(cartas_piramide_copia.pop(0))\n",
    "    print_carta(*renglon) \n",
    "\n",
    "cartas_volteadas = []\n",
    "\n",
    "def juego ():\n",
    "    \n",
    "    cartas_volteadas.clear()\n",
    "    \n",
    "    def turno1(coordenada1):\n",
    "        \n",
    "        print(f'\\n----------------------------------------------\\n')\n",
    "        coordenada1 = input(f'{jugadores[0]}, escoge una carta de la piramide: ')\n",
    "        \n",
    "        if coordenada1 not in volteadas.values():\n",
    "            return turno1(coordenada1)\n",
    "        \n",
    "        cartas_volteadas.append(coordenada1)\n",
    "        \n",
    "        indice = int(coordenada1)\n",
    "        carta = cartas_piramide[indice]\n",
    "        volteadas[carta] = carta\n",
    "    \n",
    "        cartas_piramide_copia = cartas_piramide.copy()\n",
    "        print('\\n')          \n",
    "        for i in range(1,6):\n",
    "            renglon = []\n",
    "            for _ in range(i):\n",
    "                renglon.append(cartas_piramide_copia.pop(0))\n",
    "            print_carta(*renglon)\n",
    "        \n",
    "        if carta[:-1] not in mano_jugador1_valores:\n",
    "            print(f'\\n{jugadores[0]}, te salvaste!')\n",
    "        if carta[:-1] in mano_jugador1_valores:\n",
    "            print(f'\\n{jugadores[0]}, bebe 5 segundos!')    \n",
    "        print(f'\\nLa carta escogida es: {carta}')\n",
    "        print(f'\\nTu mano es: {mano_jugador1}')\n",
    "    \n",
    "        if carta[:-1] not in mano_jugador2_valores:\n",
    "            print(f'\\n{jugadores[1]}, te salvaste!')\n",
    "        if carta[:-1] in mano_jugador2_valores:\n",
    "            print(f'\\n{jugadores[1]}, bebe 5 segundos!')\n",
    "        print(f'\\nLa mano de {jugadores[1]} es: {mano_jugador2}')\n",
    "        \n",
    "        if (len(cartas_volteadas)) == 15:\n",
    "            print(f'\\n----------------------------------------------\\n')\n",
    "            print('¡¡¡FELICIDADES ESTAN BORRACHOS!!!')\n",
    "            return\n",
    "        else:\n",
    "            return turno2(0)\n",
    "        \n",
    "    def turno2(coordenada2):\n",
    "        print(f'\\n----------------------------------------------\\n')\n",
    "        coordenada2 = input(f'{jugadores[1]}, escoge una carta de la piramide: ')\n",
    "    \n",
    "        if coordenada2 not in volteadas.values():\n",
    "            return turno2(coordenada2)\n",
    "        \n",
    "        cartas_volteadas.append(coordenada2)\n",
    "        print(cartas_volteadas)\n",
    "\n",
    "        indice = int(coordenada2)\n",
    "        carta = cartas_piramide[indice]\n",
    "        volteadas[carta] = carta\n",
    "        \n",
    "        cartas_piramide_copia = cartas_piramide.copy()      \n",
    "        print('\\n')\n",
    "        for i in range(1,6):\n",
    "            renglon = []\n",
    "            for _ in range(i):\n",
    "                renglon.append(cartas_piramide_copia.pop(0))\n",
    "            print_carta(*renglon)\n",
    "\n",
    "        if carta[:-1] not in mano_jugador2_valores:\n",
    "            print(f'\\n{jugadores[1]}, te salvaste!')\n",
    "        if carta[:-1] in mano_jugador2_valores:\n",
    "            print(f'\\n{jugadores[1]}, bebe 5 segundos!')    \n",
    "        print(f'\\nLa carta escogida es: {carta}')\n",
    "        print(f'\\nTu mano es: {mano_jugador2}')\n",
    "    \n",
    "        if carta[:-1] not in mano_jugador1_valores:\n",
    "            print(f'\\n{jugadores[0]}, te salvaste!')\n",
    "        if carta[:-1] in mano_jugador1_valores:\n",
    "            print(f'\\n{jugadores[0]}, bebe 5 segundos!')\n",
    "        print(f'\\nLa mano de {jugadores[0]} es: {mano_jugador1}')\n",
    "               \n",
    "        if (len(cartas_volteadas)) == 15:\n",
    "            print(f'\\n----------------------------------------------\\n')\n",
    "            print ('¡¡¡FELICIDADES ESTAN BORRACHOS!!!')\n",
    "            return\n",
    "        else: \n",
    "            return turno1(0)\n",
    "    turno1(0)\n",
    "juego()"
   ]
  }
 ],
 "metadata": {
  "kernelspec": {
   "display_name": "Python 3 (ipykernel)",
   "language": "python",
   "name": "python3"
  },
  "language_info": {
   "codemirror_mode": {
    "name": "ipython",
    "version": 3
   },
   "file_extension": ".py",
   "mimetype": "text/x-python",
   "name": "python",
   "nbconvert_exporter": "python",
   "pygments_lexer": "ipython3",
   "version": "3.9.7"
  }
 },
 "nbformat": 4,
 "nbformat_minor": 5
}
