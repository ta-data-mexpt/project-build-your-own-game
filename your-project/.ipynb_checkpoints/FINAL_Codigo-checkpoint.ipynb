{
 "cells": [
  {
   "cell_type": "code",
   "execution_count": 2,
   "id": "102c0a0b-d2f8-4567-9aaf-f79a458fed9d",
   "metadata": {},
   "outputs": [],
   "source": [
    "## voy a importar randoom ya que lo voy a usar\n",
    "\n",
    "import random\n",
    "import time"
   ]
  },
  {
   "cell_type": "code",
   "execution_count": 3,
   "id": "07ba51e9-2fff-4864-9942-b47c9bfbbce3",
   "metadata": {},
   "outputs": [],
   "source": [
    "class color:\n",
    "   PURPLE = '\\033[95m'\n",
    "   CYAN = '\\033[96m'\n",
    "   DARKCYAN = '\\033[36m'\n",
    "   BLUE = '\\033[94m'\n",
    "   GREEN = '\\033[92m'\n",
    "   YELLOW = '\\033[93m'\n",
    "   RED = '\\033[91m'\n",
    "   BOLD = '\\033[1m'\n",
    "   UNDERLINE = '\\033[4m'\n",
    "   END = '\\033[0m'"
   ]
  },
  {
   "cell_type": "code",
   "execution_count": 4,
   "id": "b20e1cb2-a6a9-4a08-8b54-21e4fe4404b3",
   "metadata": {},
   "outputs": [],
   "source": [
    "## voy a crear las instrucciones\n",
    "\n",
    "def instrucciones():\n",
    "    \n",
    "    print(color.BOLD + \"Lo siguiente es un juego\" + color.END)\n",
    "    time.sleep(1.2)\n",
    "    print(color.BLUE + \"==========================================================================================\\n\" + color.END)\n",
    "    print(color.RED + \" 🂡 🂡 🂡 🂡 🂡 🂡 🂡 🂡 🂡 🂡 🂡 🂡 🂡 ♤ ♠\" + color.END + color.UNDERLINE + \" ¡Bienvenid@ a 21! \" + color.END + color.RED + \"♠ ♤ 🂡 🂡 🂡 🂡 🂡 🂡 🂡 🂡 🂡 🂡 🂡 🂡 🂡 🂡 🂡 🂡 🂡\" + color.END + \"\\n\")\n",
    "    print(color.BLUE + \"==========================================================================================\\n\" + color.END)\n",
    "    time.sleep(1.2)\n",
    "    print(color.BOLD + \"Tu meta: Vencer a 'La casa' siendo el que mas cerca quede del numero 21\\n\" + color.END)\n",
    "    time.sleep(1.2)\n",
    "    print(color.BOLD + \"INSTRUCCIONES\" + color.END)\n",
    "    print(\"Decidir si seguir jugando o no cada turno que pase\\n\")\n",
    "    time.sleep(1.2)\n",
    "    print(color.BOLD + \"¿COMO FUNCIONA EL JUEGO?\" + color.END)\n",
    "    print(\"1.- Sacaras un numero randoom entre 1 y 6\")\n",
    "    print(\"2.- Se iran sumando los numeros que salgan durante cada turno\")\n",
    "    print(\"3.- RECUERDA tu meta es acercarte o llegar a 21\\n\")\n",
    "    time.sleep(3)\n",
    "    print(color.BOLD  + \"¿COMO GANAR O PERDER?\" + color.END)\n",
    "    print(\"Para ganar tienes que estar mas cerca que 'La casa' del numero 21 y pierdes\")\n",
    "    print(\"cuando quedas mas lejos que 'La casa' del numero 21 o te pasas del numero 21.\")"
   ]
  },
  {
   "cell_type": "code",
   "execution_count": 5,
   "id": "51cec669-6701-43c3-86f3-b63b5b6e168e",
   "metadata": {},
   "outputs": [],
   "source": [
    "## funcion para generar el numero randoom de \"la casa\"\n",
    "\n",
    "def numero_de_LaCasa():\n",
    "    return random.randint(16,21)"
   ]
  },
  {
   "cell_type": "code",
   "execution_count": 6,
   "id": "85c4e182-abbc-48c9-812b-24adb4f784cf",
   "metadata": {},
   "outputs": [],
   "source": [
    "## funcion para generar el numero randoom que el jugador ira sacando cada turno\n",
    "\n",
    "def numero_de_ElJugador():\n",
    "    return random.randint(1,6)"
   ]
  },
  {
   "cell_type": "code",
   "execution_count": 7,
   "id": "93fd2189-067a-4761-81b5-ed70d7bf778c",
   "metadata": {},
   "outputs": [],
   "source": [
    "## funcion para generar el resultado del jugador\n",
    "\n",
    "def resultado(usuario,compu):\n",
    "    game_over = False \n",
    "\n",
    "    if usuario == compu:\n",
    "        print('Has corrido con suerte... es un empate\\n')\n",
    "        game_over = True \n",
    "    if usuario < compu:\n",
    "        print('¡Perdiste!... ¿Te dio miedo sacar otro numero?\\n')\n",
    "        game_over = True   \n",
    "    if usuario > compu and usuario <= 21:\n",
    "        print('¿Ganaste?... ¡NO!... aun tengo una oportunidad de volver a sacar un numero\\n')\n",
    "        game_over = False ## si no jala cambia esto a true  \n",
    "    return game_over\n",
    "    "
   ]
  },
  {
   "cell_type": "code",
   "execution_count": 8,
   "id": "8b197271-c862-455e-b784-f9c562a10a8d",
   "metadata": {},
   "outputs": [],
   "source": [
    "## funcion para generar el resultado del jugador\n",
    "\n",
    "def resultado2(usuario,compu):\n",
    "    game_over = False \n",
    "\n",
    "    if usuario == compu:\n",
    "        print('Has corrido con suerte... es un empate\\n')\n",
    "        game_over = True \n",
    "    if usuario < compu:\n",
    "        print('¡Perdiste!... ¿Te dio miedo sacar otro numero?\\n')\n",
    "        game_over = True   \n",
    "    if usuario > compu and usuario <= 21:\n",
    "        print('¿Ganaste?... Te costara caro... pero... ¡Ganaste!.... suerte de novatos\\n')\n",
    "        game_over = True ## si no jala cambia esto a true  \n",
    "    return game_over"
   ]
  },
  {
   "cell_type": "code",
   "execution_count": 16,
   "id": "a059c46a-d831-41d3-99c2-5b4e698b5260",
   "metadata": {},
   "outputs": [],
   "source": [
    "## voy a crear la funcion del juego\n",
    "\n",
    "def vamos_a_jugar18():\n",
    "    game_over = False\n",
    "    game_over2 = False \n",
    "    numero_jugador = 0\n",
    "    numero_compu = numero_de_LaCasa()\n",
    "    numero_compu2 = numero_de_LaCasa()\n",
    "    valid = False\n",
    "    \n",
    "    instrucciones() ## <--- AGREGAR INSTRUCCIONES\n",
    "    \n",
    "    time.sleep(2)\n",
    "    print('\\n')\n",
    "    nombre_usuario = input(\"Usuario favor de ingresar tu nombre: \") ## <-- le esoty solicitando su nombre al usuario\n",
    "    print(\"\\n\")\n",
    "    print(color.BOLD + \"Aqui empieza el juego\" + color.END)\n",
    "    print(\"\\n\")\n",
    "    numero_jugador = numero_jugador + numero_de_ElJugador()\n",
    "    print(f'{nombre_usuario}, el primer numero con el que empiezas a jugar es: {numero_jugador}')\n",
    "    print(\"\\n\")\n",
    "\n",
    "    \n",
    "    # Aqui estoy poniendo mi loop de que el juego no va a parar hasta que la condicion de false de game over sea redefinida\n",
    "    # por true que sucede:\n",
    "    while game_over == False and game_over2 == False:\n",
    "        if numero_jugador <= 21:\n",
    "            print('¿Quieres sacar otro número?\\n')\n",
    "            print(f\"¡RECUERDA! {nombre_usuario}, tu numero actual es: {numero_jugador} \") \n",
    "            print(\"\\n\")\n",
    "            usuario_input = input(f\"{nombre_usuario} si quieres seguir sacando otro numero ingresa 'Y' y si te quedas con la sumatoria de numeros actual ingresa 'N':  \").upper()\n",
    "            print(\"\\n\")\n",
    "        else: \n",
    "            print(f\"Suelta el varo {nombre_usuario}, te pasaste de 21, perdiste\") \n",
    "            print(\"\\n\")\n",
    "            print(\"Se acabo el Juego\") \n",
    "            game_over = True ## aqui cuando el jugador pasa de 21 false pasa a valer true\n",
    "            game_over2 = True \n",
    "            return\n",
    "    \n",
    "        \n",
    "        if usuario_input == 'Y':\n",
    "            numero_temporal = numero_de_ElJugador()\n",
    "            numero_jugador = numero_jugador + numero_temporal\n",
    "            print(f\"¡WOOOOW! El numero que te salio este turno es: {numero_temporal} y tu numero anterior era {str(numero_jugador-numero_temporal)}\")\n",
    "            print(\"\\n\")\n",
    "        elif usuario_input == 'N':\n",
    "            print(f\"¡Baia Baia! No te gusta correr riesgos... te quedas en el numero: {numero_jugador} \\n\")\n",
    "            print(f'¿Cual es el numero de la casa?... tum... tum ... tum... el numero es: ¡¡{numero_compu}!! \\n')\n",
    "            game_over = resultado(numero_jugador, numero_compu) ## En la funcion de resultado false pasa a valer true \n",
    "            if game_over == False:\n",
    "                print(\"\\n\")\n",
    "                print(f\"El nuevo numero de 'La Casa' es: {numero_compu2}\")\n",
    "                print(\"\\n\")\n",
    "                game_over2 = resultado2(numero_jugador, numero_compu2)\n",
    "            \n",
    "        else: \n",
    "            print('Opción no válida, ingresa Y o N')\n",
    "        \n",
    "    else:\n",
    "        print(\"Se acabo el Juego\")\n",
    "        print(\"\\n\")\n",
    "        print(\"Quieres volver a Jugar? Pon 'Y' para confirmar o 'N' para terminar. \")\n",
    "        print(\"\\n\")\n",
    "        volver_a_jugar = input().upper()\n",
    "        if volver_a_jugar == 'Y':\n",
    "            vamos_a_jugar18()\n",
    "        elif volver_a_jugar == 'N':\n",
    "            print(\"Adios\")\n",
    "        else:\n",
    "            print(\"\\n\")\n",
    "            print(\"Opcion no valida, saliendo del juego.\")\n",
    "\n",
    "\n",
    "            \n"
   ]
  },
  {
   "cell_type": "code",
   "execution_count": 15,
   "id": "e3fa9f8e-bb58-42a8-9d86-17131f556544",
   "metadata": {},
   "outputs": [
    {
     "name": "stdout",
     "output_type": "stream",
     "text": [
      "\u001b[1mLo siguiente es un juego\u001b[0m\n",
      "\u001b[94m==========================================================================================\n",
      "\u001b[0m\n",
      "\u001b[91m 🂡 🂡 🂡 🂡 🂡 🂡 🂡 🂡 🂡 🂡 🂡 🂡 🂡 ♤ ♠\u001b[0m\u001b[4m ¡Bienvenid@ a 21! \u001b[0m\u001b[91m♠ ♤ 🂡 🂡 🂡 🂡 🂡 🂡 🂡 🂡 🂡 🂡 🂡 🂡 🂡 🂡 🂡 🂡 🂡\u001b[0m\n",
      "\n",
      "\u001b[94m==========================================================================================\n",
      "\u001b[0m\n",
      "\u001b[1mTu meta: Vencer a 'La casa' siendo el que mas cerca quede del numero 21\n",
      "\u001b[0m\n",
      "\u001b[1mINSTRUCCIONES\u001b[0m\n",
      "Decidir si seguir jugando o no cada turno que pase\n",
      "\n",
      "\u001b[1m¿COMO FUNCIONA EL JUEGO?\u001b[0m\n",
      "1.- Sacaras un numero randoom entre 1 y 6\n",
      "2.- Se iran sumando los numeros que salgan durante cada turno\n",
      "3.- RECUERDA tu meta es acercarte o llegar a 21\n",
      "\n",
      "\u001b[1m¿COMO GANAR O PERDER?\u001b[0m\n",
      "Para ganar tienes que estar mas cerca que 'La casa' del numero 21 y pierdes\n",
      "cuando quedas mas lejos que 'La casa' del numero 21 o te pasas del numero 21.\n",
      "\n",
      "\n"
     ]
    },
    {
     "name": "stdin",
     "output_type": "stream",
     "text": [
      "Usuario favor de ingresar tu nombre:  Dave\n"
     ]
    },
    {
     "name": "stdout",
     "output_type": "stream",
     "text": [
      "\n",
      "\n",
      "\u001b[1mAqui empieza el juego\u001b[0m\n",
      "\n",
      "\n",
      "Dave, el primer numero con el que empiezas a jugar es: 2\n",
      "\n",
      "\n",
      "¿Quieres sacar otro número?\n",
      "\n",
      "¡RECUERDA! Dave, tu numero actual es: 2 \n",
      "\n",
      "\n"
     ]
    },
    {
     "name": "stdin",
     "output_type": "stream",
     "text": [
      "Dave si quieres seguir sacando otro numero ingresa 'Y' y si te quedas con la sumatoria de numeros actual ingresa 'N':   y\n"
     ]
    },
    {
     "name": "stdout",
     "output_type": "stream",
     "text": [
      "\n",
      "\n",
      "¡WOOOOW! El numero que te salio este turno es: 2 y tu numero anterior era 2\n",
      "\n",
      "\n",
      "¿Quieres sacar otro número?\n",
      "\n",
      "¡RECUERDA! Dave, tu numero actual es: 4 \n",
      "\n",
      "\n"
     ]
    },
    {
     "name": "stdin",
     "output_type": "stream",
     "text": [
      "Dave si quieres seguir sacando otro numero ingresa 'Y' y si te quedas con la sumatoria de numeros actual ingresa 'N':   y\n"
     ]
    },
    {
     "name": "stdout",
     "output_type": "stream",
     "text": [
      "\n",
      "\n",
      "¡WOOOOW! El numero que te salio este turno es: 2 y tu numero anterior era 4\n",
      "\n",
      "\n",
      "¿Quieres sacar otro número?\n",
      "\n",
      "¡RECUERDA! Dave, tu numero actual es: 6 \n",
      "\n",
      "\n"
     ]
    },
    {
     "name": "stdin",
     "output_type": "stream",
     "text": [
      "Dave si quieres seguir sacando otro numero ingresa 'Y' y si te quedas con la sumatoria de numeros actual ingresa 'N':   y\n"
     ]
    },
    {
     "name": "stdout",
     "output_type": "stream",
     "text": [
      "\n",
      "\n",
      "¡WOOOOW! El numero que te salio este turno es: 4 y tu numero anterior era 6\n",
      "\n",
      "\n",
      "¿Quieres sacar otro número?\n",
      "\n",
      "¡RECUERDA! Dave, tu numero actual es: 10 \n",
      "\n",
      "\n"
     ]
    },
    {
     "name": "stdin",
     "output_type": "stream",
     "text": [
      "Dave si quieres seguir sacando otro numero ingresa 'Y' y si te quedas con la sumatoria de numeros actual ingresa 'N':   y\n"
     ]
    },
    {
     "name": "stdout",
     "output_type": "stream",
     "text": [
      "\n",
      "\n",
      "¡WOOOOW! El numero que te salio este turno es: 4 y tu numero anterior era 10\n",
      "\n",
      "\n",
      "¿Quieres sacar otro número?\n",
      "\n",
      "¡RECUERDA! Dave, tu numero actual es: 14 \n",
      "\n",
      "\n"
     ]
    },
    {
     "name": "stdin",
     "output_type": "stream",
     "text": [
      "Dave si quieres seguir sacando otro numero ingresa 'Y' y si te quedas con la sumatoria de numeros actual ingresa 'N':   y\n"
     ]
    },
    {
     "name": "stdout",
     "output_type": "stream",
     "text": [
      "\n",
      "\n",
      "¡WOOOOW! El numero que te salio este turno es: 1 y tu numero anterior era 14\n",
      "\n",
      "\n",
      "¿Quieres sacar otro número?\n",
      "\n",
      "¡RECUERDA! Dave, tu numero actual es: 15 \n",
      "\n",
      "\n"
     ]
    },
    {
     "name": "stdin",
     "output_type": "stream",
     "text": [
      "Dave si quieres seguir sacando otro numero ingresa 'Y' y si te quedas con la sumatoria de numeros actual ingresa 'N':   y\n"
     ]
    },
    {
     "name": "stdout",
     "output_type": "stream",
     "text": [
      "\n",
      "\n",
      "¡WOOOOW! El numero que te salio este turno es: 3 y tu numero anterior era 15\n",
      "\n",
      "\n",
      "¿Quieres sacar otro número?\n",
      "\n",
      "¡RECUERDA! Dave, tu numero actual es: 18 \n",
      "\n",
      "\n"
     ]
    },
    {
     "name": "stdin",
     "output_type": "stream",
     "text": [
      "Dave si quieres seguir sacando otro numero ingresa 'Y' y si te quedas con la sumatoria de numeros actual ingresa 'N':   n\n"
     ]
    },
    {
     "name": "stdout",
     "output_type": "stream",
     "text": [
      "\n",
      "\n",
      "¡Baia Baia! No te gusta correr riesgos... te quedas en el numero: 18 \n",
      "\n",
      "¿Cual es el numero de la casa?... tum... tum ... tum... el numero es: ¡¡18!! \n",
      "\n",
      "Has corrido con suerte... es un empate\n",
      "\n",
      "Se acabo el Juego\n",
      "Quieres volver a Jugar? Pon 'Y' para confirmar o 'N' para terminar. \n"
     ]
    },
    {
     "name": "stdin",
     "output_type": "stream",
     "text": [
      " y\n"
     ]
    },
    {
     "name": "stdout",
     "output_type": "stream",
     "text": [
      "\u001b[1mLo siguiente es un juego\u001b[0m\n",
      "\u001b[94m==========================================================================================\n",
      "\u001b[0m\n",
      "\u001b[91m 🂡 🂡 🂡 🂡 🂡 🂡 🂡 🂡 🂡 🂡 🂡 🂡 🂡 ♤ ♠\u001b[0m\u001b[4m ¡Bienvenid@ a 21! \u001b[0m\u001b[91m♠ ♤ 🂡 🂡 🂡 🂡 🂡 🂡 🂡 🂡 🂡 🂡 🂡 🂡 🂡 🂡 🂡 🂡 🂡\u001b[0m\n",
      "\n",
      "\u001b[94m==========================================================================================\n",
      "\u001b[0m\n",
      "\u001b[1mTu meta: Vencer a 'La casa' siendo el que mas cerca quede del numero 21\n",
      "\u001b[0m\n",
      "\u001b[1mINSTRUCCIONES\u001b[0m\n",
      "Decidir si seguir jugando o no cada turno que pase\n",
      "\n",
      "\u001b[1m¿COMO FUNCIONA EL JUEGO?\u001b[0m\n",
      "1.- Sacaras un numero randoom entre 1 y 6\n",
      "2.- Se iran sumando los numeros que salgan durante cada turno\n",
      "3.- RECUERDA tu meta es acercarte o llegar a 21\n",
      "\n",
      "\u001b[1m¿COMO GANAR O PERDER?\u001b[0m\n",
      "Para ganar tienes que estar mas cerca que 'La casa' del numero 21 y pierdes\n",
      "cuando quedas mas lejos que 'La casa' del numero 21 o te pasas del numero 21.\n",
      "\n",
      "\n"
     ]
    },
    {
     "name": "stdin",
     "output_type": "stream",
     "text": [
      "Usuario favor de ingresar tu nombre:  dave\n"
     ]
    },
    {
     "name": "stdout",
     "output_type": "stream",
     "text": [
      "\n",
      "\n",
      "\u001b[1mAqui empieza el juego\u001b[0m\n",
      "\n",
      "\n",
      "dave, el primer numero con el que empiezas a jugar es: 3\n",
      "\n",
      "\n",
      "¿Quieres sacar otro número?\n",
      "\n",
      "¡RECUERDA! dave, tu numero actual es: 3 \n",
      "\n",
      "\n"
     ]
    },
    {
     "name": "stdin",
     "output_type": "stream",
     "text": [
      "dave si quieres seguir sacando otro numero ingresa 'Y' y si te quedas con la sumatoria de numeros actual ingresa 'N':   y\n"
     ]
    },
    {
     "name": "stdout",
     "output_type": "stream",
     "text": [
      "\n",
      "\n",
      "¡WOOOOW! El numero que te salio este turno es: 6 y tu numero anterior era 3\n",
      "\n",
      "\n",
      "¿Quieres sacar otro número?\n",
      "\n",
      "¡RECUERDA! dave, tu numero actual es: 9 \n",
      "\n",
      "\n"
     ]
    },
    {
     "name": "stdin",
     "output_type": "stream",
     "text": [
      "dave si quieres seguir sacando otro numero ingresa 'Y' y si te quedas con la sumatoria de numeros actual ingresa 'N':   y\n"
     ]
    },
    {
     "name": "stdout",
     "output_type": "stream",
     "text": [
      "\n",
      "\n",
      "¡WOOOOW! El numero que te salio este turno es: 1 y tu numero anterior era 9\n",
      "\n",
      "\n",
      "¿Quieres sacar otro número?\n",
      "\n",
      "¡RECUERDA! dave, tu numero actual es: 10 \n",
      "\n",
      "\n"
     ]
    },
    {
     "name": "stdin",
     "output_type": "stream",
     "text": [
      "dave si quieres seguir sacando otro numero ingresa 'Y' y si te quedas con la sumatoria de numeros actual ingresa 'N':   y\n"
     ]
    },
    {
     "name": "stdout",
     "output_type": "stream",
     "text": [
      "\n",
      "\n",
      "¡WOOOOW! El numero que te salio este turno es: 5 y tu numero anterior era 10\n",
      "\n",
      "\n",
      "¿Quieres sacar otro número?\n",
      "\n",
      "¡RECUERDA! dave, tu numero actual es: 15 \n",
      "\n",
      "\n"
     ]
    },
    {
     "name": "stdin",
     "output_type": "stream",
     "text": [
      "dave si quieres seguir sacando otro numero ingresa 'Y' y si te quedas con la sumatoria de numeros actual ingresa 'N':   y\n"
     ]
    },
    {
     "name": "stdout",
     "output_type": "stream",
     "text": [
      "\n",
      "\n",
      "¡WOOOOW! El numero que te salio este turno es: 5 y tu numero anterior era 15\n",
      "\n",
      "\n",
      "¿Quieres sacar otro número?\n",
      "\n",
      "¡RECUERDA! dave, tu numero actual es: 20 \n",
      "\n",
      "\n"
     ]
    },
    {
     "name": "stdin",
     "output_type": "stream",
     "text": [
      "dave si quieres seguir sacando otro numero ingresa 'Y' y si te quedas con la sumatoria de numeros actual ingresa 'N':   n\n"
     ]
    },
    {
     "name": "stdout",
     "output_type": "stream",
     "text": [
      "\n",
      "\n",
      "¡Baia Baia! No te gusta correr riesgos... te quedas en el numero: 20 \n",
      "\n",
      "¿Cual es el numero de la casa?... tum... tum ... tum... el numero es: ¡¡19!! \n",
      "\n",
      "¿Ganaste?... ¡NO!... aun tengo una oportunidad de volver a sacar un numero\n",
      "\n",
      "\n",
      "\n",
      "El nuevo numero de 'La Casa' es: 17\n",
      "\n",
      "\n",
      "¿Ganaste?... Te costara caro... pero... ¡Ganaste!.... suerte de novatos\n",
      "\n",
      "Se acabo el Juego\n",
      "Quieres volver a Jugar? Pon 'Y' para confirmar o 'N' para terminar. \n"
     ]
    },
    {
     "name": "stdin",
     "output_type": "stream",
     "text": [
      " n\n"
     ]
    },
    {
     "name": "stdout",
     "output_type": "stream",
     "text": [
      "Adios\n"
     ]
    }
   ],
   "source": [
    "vamos_a_jugar18()"
   ]
  },
  {
   "cell_type": "code",
   "execution_count": null,
   "id": "7c9c529e-5f41-4f2f-ac01-7890a79585e1",
   "metadata": {},
   "outputs": [],
   "source": []
  }
 ],
 "metadata": {
  "kernelspec": {
   "display_name": "Python 3",
   "language": "python",
   "name": "python3"
  },
  "language_info": {
   "codemirror_mode": {
    "name": "ipython",
    "version": 3
   },
   "file_extension": ".py",
   "mimetype": "text/x-python",
   "name": "python",
   "nbconvert_exporter": "python",
   "pygments_lexer": "ipython3",
   "version": "3.8.8"
  }
 },
 "nbformat": 4,
 "nbformat_minor": 5
}
