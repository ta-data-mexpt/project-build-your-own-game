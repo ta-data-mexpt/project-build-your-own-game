{
 "cells": [
  {
   "cell_type": "code",
   "execution_count": 42,
   "id": "bd9f72f3-27c0-46f6-b1f3-b4f83c047936",
   "metadata": {
    "tags": []
   },
   "outputs": [
    {
     "name": "stdout",
     "output_type": "stream",
     "text": [
      "Requirement already satisfied: pyfiglet in c:\\users\\jfcon\\anaconda3\\lib\\site-packages (0.8.post1)\n",
      "Note: you may need to restart the kernel to use updated packages.\n"
     ]
    }
   ],
   "source": [
    "pip install pyfiglet"
   ]
  },
  {
   "cell_type": "code",
   "execution_count": 43,
   "id": "fb206c3e-ed64-498c-9dcd-c81385199bb0",
   "metadata": {},
   "outputs": [],
   "source": [
    "import random\n",
    "import time\n",
    "from pyfiglet import *\n",
    "from termcolor import colored\n",
    "from random import randint"
   ]
  },
  {
   "cell_type": "code",
   "execution_count": 44,
   "id": "b0d8bc84-6e2e-43e9-be76-261058056254",
   "metadata": {},
   "outputs": [],
   "source": [
    "labios_compartidos = ['Amor', 'mío', 'Si', 'estoy', 'debajo', 'del', 'vaivén', 'de', 'tus', 'piernas', 'Si', 'estoy', 'hundido', 'en', 'un', 'vaivén', 'de', 'caderas', 'Esto', 'es', 'el', 'cielo,', 'es', 'mi', 'cielo', 'Amor', 'fugado', 'Me', 'tomas,', 'me', 'dejas,', 'me', 'exprimes', 'y', 'me', 'tiras', 'a', 'un', 'lado', 'Te', 'vas', 'a', 'otros', 'cielos', 'y', 'regresas', 'como', 'los', 'colibrís', 'Me', 'tienes', 'como', 'un', 'perro', 'a', 'tus', 'pies', 'Otra', 'vez', 'mi', 'boca', 'insensata', 'Vuelve', 'a', 'caer', 'en', 'tu', 'piel', 'Vuelve', 'a', 'mí', 'tu', 'boca', 'y', 'provoca', 'Vuelvo', 'a', 'caer', 'de', 'tus', 'pechos', 'a', 'tu', 'par', 'de', 'pies', 'Labios', 'compartidos,', 'labios', 'divididos,', 'mi', 'amor', 'Yo', 'no', 'puedo', 'compartir', 'tus', 'labios', 'Que', 'comparto', 'el', 'engaño', 'y', 'comparto', 'mis', 'días', 'y', 'el', 'dolor', 'Ya', 'no', 'puedo', 'compartir', 'tus', 'labios', 'Oh', 'amor,', 'oh', 'amor', 'compartido', 'Amor', 'mutante', 'Amigos', 'con', 'derecho', 'y', 'sin', 'derecho', 'de', 'tenerte', 'siempre', 'Y', 'siempre', 'tengo', 'que', 'esperar', 'paciente', 'El', 'pedazo', 'que', 'me', 'toca', 'de', 'ti', 'Relámpagos', 'de', 'alcohol', 'Las', 'voces', 'solas', 'lloran', 'en', 'el', 'sol,', 'eh', 'Mi', 'boca', 'en', 'llamas', 'torturada', 'Te', 'desnudas', 'angelada,', 'luego', 'te', 'vas', 'Otra', 'vez', 'mi', 'boca', 'insensata', 'Vuelve', 'a', 'caer', 'en', 'tu', 'piel', 'de', 'miel', 'Vuelve', 'a', 'mí', 'tu', 'boca,', 'duele', 'Vuelvo', 'a', 'caer', 'de', 'tus', 'pechos', 'a', 'tu', 'par', 'de', 'pies', 'Labios', 'compartidos,', 'labios', 'divididos,', 'mi', 'amor', 'Yo', 'no', 'puedo', 'compartir', 'tus', 'labios', 'Que', 'comparto', 'el', 'engaño', 'y', 'comparto', 'mis', 'días', 'y', 'el', 'dolor', 'Ya', 'no', 'puedo', 'compartir', 'tus', 'labios', 'Que', 'me', 'parta', 'un', 'rayo', 'Que', 'me', 'entierre', 'el', 'olvido', 'mi', 'amor', 'Pero', 'no', 'puedo', 'más', 'compartir', 'tus', 'labios,', 'compartir', 'tus', 'besos', 'Labios', 'compartidos', 'Te', 'amo', 'con', 'toda', 'mi', 'fe,', 'sin', 'medida', 'Te', 'amo', 'aunque', 'estés', 'compartida', 'Tus', 'labios', 'tiene', 'el', 'control', 'Te', 'amo', 'con', 'toda', 'mi', 'fe,', 'sin', 'medida', 'Te', 'amo', 'aunque', 'estés', 'compartida', 'Tus', 'labios', 'tienen', 'el', 'control', 'Y', 'sigues', 'tú', 'con', 'el', 'control']"
   ]
  },
  {
   "cell_type": "code",
   "execution_count": 45,
   "id": "faf32c3f-edd6-439a-85c7-2e5b81f46e17",
   "metadata": {},
   "outputs": [],
   "source": [
    "de_musica_ligera = ['Ella', 'durmió', 'al', 'calor', 'de', 'las', 'masas', 'Y', 'yo', 'desperté', 'queriendo', 'soñarla', 'Algún', 'tiempo', 'atrás', 'pensé', 'en', 'escribirle', 'Que', 'nunca', 'sorteé', 'las', 'trampas', 'del', 'amor', 'De', 'aquel', 'amor', 'De', 'música', 'ligera', 'Nada', 'nos', 'libra', 'Nada', 'más', 'queda', 'No', 'le', 'enviaré', 'cenizas', 'de', 'rosas', 'Ni', 'pienso', 'evitar', 'un', 'roce', 'secreto', 'De', 'aquel', 'amor', 'De', 'música', 'ligera', 'Nada', 'nos', 'libra', 'Nada', 'más', 'queda', 'De', 'aquel', 'amor', 'De', 'música', 'ligera', 'Nada', 'nos', 'libra', 'Nada', 'más', 'queda', 'Nada', 'más', 'Nada', 'más', 'queda', 'Nada', 'más', 'queda', 'Nada', 'más', 'queda', 'Nada', 'más', 'queda']"
   ]
  },
  {
   "cell_type": "code",
   "execution_count": 46,
   "id": "c0e6eab5-f614-42c3-b3c2-7fc362e99639",
   "metadata": {},
   "outputs": [],
   "source": [
    "burbujas_de_amor = ['Tengo', 'un', 'corazón', 'Mutilado', 'de', 'esperanza', 'y', 'de', 'razón', 'Tengo', 'un', 'corazón', 'Que', 'madruga', 'adonde', 'quiera', 'Ay', 'ay', 'ay', 'ay', 'Y', 'ese', 'corazón', 'Se', 'desnuda', 'de', 'impaciencia', 'ante', 'tu', 'voz', 'Pobre', 'corazón', 'Que', 'no', 'atrapa', 'su', 'cordura', 'Quisiera', 'ser', 'un', 'pez', 'Para', 'tocar', 'mi', 'nariz', 'en', 'tu', 'pecera', 'Y', 'hacer', 'burbujas', 'de', 'amor', 'Por', 'donde', 'quiera', 'Oh-oh-oh', 'pasar', 'la', 'noche', 'en', 'vela', 'Mojado', 'en', 'ti', 'Un', 'pez', 'Para', 'bordar', 'de', 'corales', 'tu', 'cintura', 'Y', 'hacer', 'siluetas', 'de', 'amor', 'Bajo', 'la', 'luna', 'Oh-oh-oh', 'saciar', 'esta', 'locura', 'Mojado', 'en', 'ti', 'Canta', 'corazón', 'Con', 'un', 'ancla', 'imprescindible', 'de', 'ilusión', 'Sueña', 'corazón', 'No', 'te', 'nubles', 'de', 'amargura', 'Ay', 'ay', 'ay', 'ay', 'Y', 'este', 'corazón', 'Se', 'desnuda', 'de', 'impaciencia', 'ante', 'tu', 'voz', 'Pobre', 'corazón', 'Que', 'no', 'atrapa', 'su', 'cordura', 'Quisiera', 'ser', 'un', 'pez', 'Para', 'tocar', 'mi', 'nariz', 'En', 'tu', 'pecera', 'Y', 'hacer', 'burbujas', 'de', 'amor', 'Por', 'donde', 'quiera', 'Oh-oh-oh', 'pasar', 'la', 'noche', 'en', 'vela', 'Mojado', 'en', 'ti', 'Un', 'pez', 'Para', 'bordar', 'de', 'corales', 'tu', 'cintura', 'Y', 'hacer', 'siluetas', 'de', 'amor', 'Bajo', 'la', 'luna', 'Oh-oh-oh', 'saciar', 'esta', 'locura', 'Mojado', 'en', 'ti', 'Una', 'noche', 'Para', 'hundirnos', 'hasta', 'el', 'fin', 'Cara', 'a', 'cara,', 'beso', 'a', 'beso', 'Y', 'vivir', 'por', 'siempre', 'Mojado', 'en', 'ti', 'Quisiera', 'ser', 'un', 'pez', 'Para', 'tocar', 'mi', 'nariz', 'En', 'tu', 'pecera', 'Y', 'hacer', 'burbujas', 'de', 'amor', 'Por', 'donde', 'quiera', 'Oh-oh-oh', 'pasar', 'la', 'noche', 'en', 'vela', 'Mojado', 'en', 'ti', 'Un', 'pez', 'Para', 'bordar', 'de', 'cayenas', 'tu', 'cintura', 'Y', 'hacer', 'siluetas', 'de', 'amor', 'Bajo', 'la', 'luna', 'Oh-oh-oh', 'saciar', 'esta', 'locura', 'Mojado', 'en', 'ti', 'Para', 'tocar', 'mi', 'nariz', 'En', 'tu', 'pecera', 'Y', 'hacer', 'burbujas', 'de', 'amor', 'Por', 'donde', 'quiera', 'Oh-oh-oh', 'pasar', 'la', 'noche', 'en', 'vela', 'Mojado', 'en', 'ti', 'Un', 'pez', 'Para', 'bordar', 'de', 'cayenas', 'tu', 'cintura', 'Y', 'hacer', 'siluetas', 'de', 'amor', 'Bajo', 'la', 'luna', 'Oh-oh-oh', 'vaciar', 'esta', 'locura', 'Mojado', 'en', 'ti']"
   ]
  },
  {
   "cell_type": "code",
   "execution_count": 47,
   "id": "69f18819-fd55-4687-8125-b727641c3281",
   "metadata": {},
   "outputs": [
    {
     "name": "stdout",
     "output_type": "stream",
     "text": [
      "['Bienvenido', 'a', 'KARAOKE', 'fanático', 'de', 'la', 'música!', 'Por', 'favor', 'elige', 'un', 'género']\n"
     ]
    }
   ],
   "source": [
    "print('Bienvenido a KARAOKE fanático de la música! Por favor elige un género'.split())"
   ]
  },
  {
   "cell_type": "code",
   "execution_count": 48,
   "id": "01b1426d-b492-4630-9d2f-5dbdb05419e3",
   "metadata": {},
   "outputs": [
    {
     "name": "stdout",
     "output_type": "stream",
     "text": [
      "['Bienvenido', 'a', 'KARAOKE', 'fanático', 'de', 'la', 'música!']\n"
     ]
    }
   ],
   "source": [
    "print('Bienvenido a KARAOKE fanático de la música!'.split())"
   ]
  },
  {
   "cell_type": "code",
   "execution_count": 49,
   "id": "a5cd76bd-3fee-4fe9-9fd6-dd54d56976b1",
   "metadata": {},
   "outputs": [
    {
     "name": "stdout",
     "output_type": "stream",
     "text": [
      "['Por', 'favor', 'elige', 'un', 'género']\n"
     ]
    }
   ],
   "source": [
    "print('Por favor elige un género'.split())"
   ]
  },
  {
   "cell_type": "code",
   "execution_count": 50,
   "id": "1a0c47d1-8d60-456b-b346-8ff33bba03c4",
   "metadata": {},
   "outputs": [],
   "source": [
    "def karaoke(genero):\n",
    "    contador = 0\n",
    "    print('En sus marcas')\n",
    "    time.sleep(0.5)\n",
    "    print('Listos')\n",
    "    time.sleep(0.5)\n",
    "    print('A CANTAR!')\n",
    "    time.sleep(0.7)\n",
    "    if genero == labios_compartidos:\n",
    "        print('Tocando Labios Compartidos')\n",
    "    elif genero == de_musica_ligera:\n",
    "        print('Tocando De Música Ligera')\n",
    "    else:\n",
    "        print('Tocando Burbujas de Amor')\n",
    "    for palabra in genero:\n",
    "        time.sleep(0.1)\n",
    "        if random.random() < 0.1:\n",
    "            intento = f_limpieza((input('¿Qué palabra viene? ')).lower())\n",
    "            if intento == f_limpieza(palabra.lower()):\n",
    "                print(colored('BIEN ☻','green'))\n",
    "                pass\n",
    "            elif intento != palabra.lower() and contador < 2:\n",
    "                contador = contador + 1\n",
    "                print(colored(f'Llevas {contador} equivocaciones', 'red'))\n",
    "            else:\n",
    "                msg = ('You Loose')\n",
    "                ascii_art = figlet_format(msg, font= \"slant\")\n",
    "                colored_ascii = colored(ascii_art, 'red')\n",
    "                print(colored_ascii)\n",
    "                return\n",
    "            \n",
    "        else:\n",
    "            print(palabra, end = ' ')\n",
    "    time.sleep(3)\n",
    "    msg = ('you win!!')\n",
    "    ascii_art = figlet_format(msg, font= \"doh\")\n",
    "    colored_ascii = colored(ascii_art, 'blue')\n",
    "    print(colored_ascii)"
   ]
  },
  {
   "cell_type": "code",
   "execution_count": 51,
   "id": "313daac3-6827-4936-bdd1-6eeedbf91a98",
   "metadata": {},
   "outputs": [
    {
     "name": "stdout",
     "output_type": "stream",
     "text": [
      "\u001b[34mhola\u001b[0m\n"
     ]
    }
   ],
   "source": [
    "prueba = colored('hola','blue')\n",
    "print(prueba)"
   ]
  },
  {
   "cell_type": "code",
   "execution_count": 52,
   "id": "1e83e61c-58f4-45b4-bdd3-760cf9af1a6c",
   "metadata": {},
   "outputs": [],
   "source": [
    "def f_limpieza(word):\n",
    "    replacements = (\n",
    "        (\"á\", \"a\"),\n",
    "        (\"é\", \"e\"),\n",
    "        (\"í\", \"i\"),\n",
    "        (\"ó\", \"o\"),\n",
    "        (\"ú\", \"u\"),\n",
    "    )\n",
    "    for a, b in replacements:\n",
    "        word = word.replace(a, b)\n",
    "    return word"
   ]
  },
  {
   "cell_type": "code",
   "execution_count": 53,
   "id": "c5a6a091-76f0-47a2-9e4d-b7579305ec64",
   "metadata": {},
   "outputs": [],
   "source": [
    "def elegir_genero():\n",
    "    Bienvenida = ['Bienvenido', 'a', 'INTERNACIONAL KARAOKE', 'fanático', 'de', 'la', 'música!']\n",
    "    elige = ['Por', 'favor', 'elige', 'un', 'género']\n",
    "    lista_genero=[labios_compartidos, de_musica_ligera, burbujas_de_amor]\n",
    "    for palabra in Bienvenida:\n",
    "        time.sleep(0.2)\n",
    "        print(palabra, end=' ')    \n",
    "    instrucciones = (input('¿Quieres conocer las instrucciones? Ingresa si/no ')).lower()\n",
    "    if instrucciones == 'si':\n",
    "        print('En este juego de karaoke debes adivinar la palabra que sigue.\\nSi te equivocas 3 veces, perderás')\n",
    "    else:\n",
    "        pass\n",
    "    for palabra in elige:\n",
    "        time.sleep(0.2)\n",
    "        print(palabra, end=' ') \n",
    "    eleccion = (input('Escribe\\nA = Pop\\nB = Rock\\nC = Salsa\\nD = Aleatorio\\n')).upper()\n",
    "    if eleccion == 'A':\n",
    "         karaoke(labios_compartidos)\n",
    "    elif eleccion == 'B':\n",
    "         karaoke(de_musica_ligera)\n",
    "    elif eleccion == 'C':\n",
    "          karaoke(burbujas_de_amor)\n",
    "    elif eleccion == 'D':\n",
    "         karaoke(random.choice(lista_genero))\n",
    "    else:\n",
    "        print('Debe ingresar A, B, C, D')\n",
    "        return elegir_genero()"
   ]
  },
  {
   "cell_type": "code",
   "execution_count": null,
   "id": "138dee41-705a-41d9-8174-547c2363f7b5",
   "metadata": {},
   "outputs": [],
   "source": []
  },
  {
   "cell_type": "code",
   "execution_count": null,
   "id": "903d7c10-1a8c-4b84-8cd3-528270bfe3c7",
   "metadata": {},
   "outputs": [],
   "source": []
  },
  {
   "cell_type": "code",
   "execution_count": 54,
   "id": "c46109e6-447a-4999-9259-3992d4c75e88",
   "metadata": {},
   "outputs": [
    {
     "name": "stdout",
     "output_type": "stream",
     "text": [
      "Bienvenido a INTERNACIONAL KARAOKE fanático de la música! "
     ]
    },
    {
     "name": "stdin",
     "output_type": "stream",
     "text": [
      "¿Quieres conocer las instrucciones? Ingresa si/no  no\n"
     ]
    },
    {
     "name": "stdout",
     "output_type": "stream",
     "text": [
      "Por favor elige un género "
     ]
    },
    {
     "name": "stdin",
     "output_type": "stream",
     "text": [
      "Escribe\n",
      "A = Pop\n",
      "B = Rock\n",
      "C = Salsa\n",
      "D = Aleatorio\n",
      " b\n"
     ]
    },
    {
     "name": "stdout",
     "output_type": "stream",
     "text": [
      "En sus marcas\n",
      "Listos\n",
      "A CANTAR!\n",
      "Tocando De Música Ligera\n",
      "Ella durmió "
     ]
    },
    {
     "name": "stdin",
     "output_type": "stream",
     "text": [
      "¿Qué palabra viene?  al\n"
     ]
    },
    {
     "name": "stdout",
     "output_type": "stream",
     "text": [
      "\u001b[32mBIEN ☻\u001b[0m\n",
      "calor de las masas Y yo desperté queriendo soñarla Algún tiempo atrás pensé en escribirle Que nunca sorteé las trampas del amor De aquel amor De música ligera Nada nos libra Nada más queda No le enviaré cenizas de rosas Ni pienso "
     ]
    },
    {
     "name": "stdin",
     "output_type": "stream",
     "text": [
      "¿Qué palabra viene?  los\n"
     ]
    },
    {
     "name": "stdout",
     "output_type": "stream",
     "text": [
      "\u001b[31mLlevas 1 equivocaciones\u001b[0m\n",
      "un roce secreto De aquel amor De música ligera Nada nos libra Nada más queda De aquel "
     ]
    },
    {
     "name": "stdin",
     "output_type": "stream",
     "text": [
      "¿Qué palabra viene?  amor\n"
     ]
    },
    {
     "name": "stdout",
     "output_type": "stream",
     "text": [
      "\u001b[32mBIEN ☻\u001b[0m\n",
      "De música "
     ]
    },
    {
     "name": "stdin",
     "output_type": "stream",
     "text": [
      "¿Qué palabra viene?  ligera\n"
     ]
    },
    {
     "name": "stdout",
     "output_type": "stream",
     "text": [
      "\u001b[32mBIEN ☻\u001b[0m\n",
      "Nada "
     ]
    },
    {
     "name": "stdin",
     "output_type": "stream",
     "text": [
      "¿Qué palabra viene?  nos\n"
     ]
    },
    {
     "name": "stdout",
     "output_type": "stream",
     "text": [
      "\u001b[32mBIEN ☻\u001b[0m\n",
      "libra Nada más queda Nada más Nada más queda "
     ]
    },
    {
     "name": "stdin",
     "output_type": "stream",
     "text": [
      "¿Qué palabra viene?  nada\n"
     ]
    },
    {
     "name": "stdout",
     "output_type": "stream",
     "text": [
      "\u001b[32mBIEN ☻\u001b[0m\n",
      "más queda Nada más "
     ]
    },
    {
     "name": "stdin",
     "output_type": "stream",
     "text": [
      "¿Qué palabra viene?  queda\n"
     ]
    },
    {
     "name": "stdout",
     "output_type": "stream",
     "text": [
      "\u001b[32mBIEN ☻\u001b[0m\n",
      "Nada "
     ]
    },
    {
     "name": "stdin",
     "output_type": "stream",
     "text": [
      "¿Qué palabra viene?  mas\n"
     ]
    },
    {
     "name": "stdout",
     "output_type": "stream",
     "text": [
      "\u001b[32mBIEN ☻\u001b[0m\n",
      "queda \u001b[34m                                                          \n",
      "                                                          \n",
      "                                                          \n",
      "                                                          \n",
      "                                                          \n",
      "                                                          \n",
      "yyyyyyy           yyyyyyy ooooooooooo   uuuuuu    uuuuuu  \n",
      " y:::::y         y:::::yoo:::::::::::oo u::::u    u::::u  \n",
      "  y:::::y       y:::::yo:::::::::::::::ou::::u    u::::u  \n",
      "   y:::::y     y:::::y o:::::ooooo:::::ou::::u    u::::u  \n",
      "    y:::::y   y:::::y  o::::o     o::::ou::::u    u::::u  \n",
      "     y:::::y y:::::y   o::::o     o::::ou::::u    u::::u  \n",
      "      y:::::y:::::y    o::::o     o::::ou::::u    u::::u  \n",
      "       y:::::::::y     o::::o     o::::ou:::::uuuu:::::u  \n",
      "        y:::::::y      o:::::ooooo:::::ou:::::::::::::::uu\n",
      "         y:::::y       o:::::::::::::::o u:::::::::::::::u\n",
      "        y:::::y         oo:::::::::::oo   uu::::::::uu:::u\n",
      "       y:::::y            ooooooooooo       uuuuuuuu  uuuu\n",
      "      y:::::y                                             \n",
      "     y:::::y                                              \n",
      "    y:::::y                                               \n",
      "   y:::::y                                                \n",
      "  yyyyyyy                                                 \n",
      "                                                          \n",
      "                                                          \n",
      "                                                                            \n",
      "                                                                            \n",
      "                                           iiii                    !!!  !!! \n",
      "                                          i::::i                  !!:!!!!:!!\n",
      "                                           iiii                   !:::!!:::!\n",
      "                                                                  !:::!!:::!\n",
      "wwwwwww           wwwww           wwwwwwwiiiiiiinnnn  nnnnnnnn    !:::!!:::!\n",
      " w:::::w         w:::::w         w:::::w i:::::in:::nn::::::::nn  !:::!!:::!\n",
      "  w:::::w       w:::::::w       w:::::w   i::::in::::::::::::::nn !:::!!:::!\n",
      "   w:::::w     w:::::::::w     w:::::w    i::::inn:::::::::::::::n!:::!!:::!\n",
      "    w:::::w   w:::::w:::::w   w:::::w     i::::i  n:::::nnnn:::::n!:::!!:::!\n",
      "     w:::::w w:::::w w:::::w w:::::w      i::::i  n::::n    n::::n!:::!!:::!\n",
      "      w:::::w:::::w   w:::::w:::::w       i::::i  n::::n    n::::n!!:!!!!:!!\n",
      "       w:::::::::w     w:::::::::w        i::::i  n::::n    n::::n !!!  !!! \n",
      "        w:::::::w       w:::::::w        i::::::i n::::n    n::::n          \n",
      "         w:::::w         w:::::w         i::::::i n::::n    n::::n !!!  !!! \n",
      "          w:::w           w:::w          i::::::i n::::n    n::::n!!:!!!!:!!\n",
      "           www             www           iiiiiiii nnnnnn    nnnnnn !!!  !!! \n",
      "                                                                            \n",
      "                                                                            \n",
      "                                                                            \n",
      "                                                                            \n",
      "                                                                            \n",
      "                                                                            \n",
      "                                                                            \n",
      "\u001b[0m\n"
     ]
    }
   ],
   "source": [
    "elegir_genero()"
   ]
  }
 ],
 "metadata": {
  "kernelspec": {
   "display_name": "Python 3",
   "language": "python",
   "name": "python3"
  },
  "language_info": {
   "codemirror_mode": {
    "name": "ipython",
    "version": 3
   },
   "file_extension": ".py",
   "mimetype": "text/x-python",
   "name": "python",
   "nbconvert_exporter": "python",
   "pygments_lexer": "ipython3",
   "version": "3.8.8"
  }
 },
 "nbformat": 4,
 "nbformat_minor": 5
}
