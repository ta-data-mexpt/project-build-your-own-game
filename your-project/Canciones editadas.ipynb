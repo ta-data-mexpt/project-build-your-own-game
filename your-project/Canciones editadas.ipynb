{
 "cells": [
  {
   "cell_type": "code",
   "execution_count": 1,
   "id": "ba5ff299-7189-488b-a2d1-1cb306b6ac96",
   "metadata": {
    "tags": []
   },
   "outputs": [],
   "source": [
    "labios_compartidos = '''Amor mío\n",
    "Si estoy debajo del vaivén de tus piernas\n",
    "Si estoy hundido en un vaivén de caderas\n",
    "Esto es el cielo, es mi cielo\n",
    "Amor fugado\n",
    "Me tomas, me dejas, me exprimes y me tiras a un lado\n",
    "Te vas a otros cielos y regresas como los colibrís\n",
    "Me tienes como un perro a tus pies\n",
    "Otra vez mi boca insensata\n",
    "Vuelve a caer en tu piel\n",
    "Vuelve a mí tu boca y provoca\n",
    "Vuelvo a caer de tus pechos a tu par de pies\n",
    "Labios compartidos, labios divididos, mi amor\n",
    "Yo no puedo compartir tus labios\n",
    "Que comparto el engaño y comparto mis días y el dolor\n",
    "Ya no puedo compartir tus labios\n",
    "Oh amor, oh amor compartido\n",
    "Amor mutante\n",
    "Amigos con derecho y sin derecho de tenerte siempre\n",
    "Y siempre tengo que esperar paciente\n",
    "El pedazo que me toca de ti\n",
    "Relámpagos de alcohol\n",
    "Las voces solas lloran en el sol, eh\n",
    "Mi boca en llamas torturada\n",
    "Te desnudas angelada, luego te vas\n",
    "Otra vez mi boca insensata\n",
    "Vuelve a caer en tu piel de miel\n",
    "Vuelve a mí tu boca, duele\n",
    "Vuelvo a caer de tus pechos a tu par de pies\n",
    "Labios compartidos, labios divididos, mi amor\n",
    "Yo no puedo compartir tus labios\n",
    "Que comparto el engaño y comparto mis días y el dolor\n",
    "Ya no puedo compartir tus labios\n",
    "Que me parta un rayo\n",
    "Que me entierre el olvido mi amor\n",
    "Pero no puedo más compartir tus labios, compartir tus besos\n",
    "Labios compartidos\n",
    "Te amo con toda mi fe, sin medida\n",
    "Te amo aunque estés compartida\n",
    "Tus labios tiene el control\n",
    "Te amo con toda mi fe, sin medida\n",
    "Te amo aunque estés compartida\n",
    "Tus labios tienen el control\n",
    "Y sigues tú con el control'''"
   ]
  },
  {
   "cell_type": "code",
   "execution_count": 2,
   "id": "69919065-5692-4b4f-9f2d-ef2263165c58",
   "metadata": {},
   "outputs": [
    {
     "data": {
      "text/plain": [
       "'Amor mío\\nSi estoy debajo del vaivén de tus piernas\\nSi estoy hundido en un vaivén de caderas\\nEsto es el cielo es mi cielo\\nAmor fugado\\nMe tomas me dejas me exprimes y me tiras a un lado\\nTe vas a otros cielos y regresas como los colibrís\\nMe tienes como un perro a tus pies\\nOtra vez mi boca insensata\\nVuelve a caer en tu piel\\nVuelve a mí tu boca y provoca\\nVuelvo a caer de tus pechos a tu par de pies\\nLabios compartidos labios divididos mi amor\\nYo no puedo compartir tus labios\\nQue comparto el engaño y comparto mis días y el dolor\\nYa no puedo compartir tus labios\\nOh amor oh amor compartido\\nAmor mutante\\nAmigos con derecho y sin derecho de tenerte siempre\\nY siempre tengo que esperar paciente\\nEl pedazo que me toca de ti\\nRelámpagos de alcohol\\nLas voces solas lloran en el sol eh\\nMi boca en llamas torturada\\nTe desnudas angelada luego te vas\\nOtra vez mi boca insensata\\nVuelve a caer en tu piel de miel\\nVuelve a mí tu boca duele\\nVuelvo a caer de tus pechos a tu par de pies\\nLabios compartidos labios divididos mi amor\\nYo no puedo compartir tus labios\\nQue comparto el engaño y comparto mis días y el dolor\\nYa no puedo compartir tus labios\\nQue me parta un rayo\\nQue me entierre el olvido mi amor\\nPero no puedo más compartir tus labios compartir tus besos\\nLabios compartidos\\nTe amo con toda mi fe sin medida\\nTe amo aunque estés compartida\\nTus labios tiene el control\\nTe amo con toda mi fe sin medida\\nTe amo aunque estés compartida\\nTus labios tienen el control\\nY sigues tú con el control'"
      ]
     },
     "execution_count": 2,
     "metadata": {},
     "output_type": "execute_result"
    }
   ],
   "source": [
    "labios_compartidos.replace(',','')"
   ]
  },
  {
   "cell_type": "code",
   "execution_count": 3,
   "id": "c45c48f5-1f56-4d16-9945-b86330e7b432",
   "metadata": {},
   "outputs": [],
   "source": [
    "mana = labios_compartidos.split()"
   ]
  },
  {
   "cell_type": "code",
   "execution_count": 4,
   "id": "c18078ee-1e74-4915-ac46-6ec102a67e7a",
   "metadata": {},
   "outputs": [
    {
     "name": "stdout",
     "output_type": "stream",
     "text": [
      "['Amor', 'mío', 'Si', 'estoy', 'debajo', 'del', 'vaivén', 'de', 'tus', 'piernas', 'Si', 'estoy', 'hundido', 'en', 'un', 'vaivén', 'de', 'caderas', 'Esto', 'es', 'el', 'cielo,', 'es', 'mi', 'cielo', 'Amor', 'fugado', 'Me', 'tomas,', 'me', 'dejas,', 'me', 'exprimes', 'y', 'me', 'tiras', 'a', 'un', 'lado', 'Te', 'vas', 'a', 'otros', 'cielos', 'y', 'regresas', 'como', 'los', 'colibrís', 'Me', 'tienes', 'como', 'un', 'perro', 'a', 'tus', 'pies', 'Otra', 'vez', 'mi', 'boca', 'insensata', 'Vuelve', 'a', 'caer', 'en', 'tu', 'piel', 'Vuelve', 'a', 'mí', 'tu', 'boca', 'y', 'provoca', 'Vuelvo', 'a', 'caer', 'de', 'tus', 'pechos', 'a', 'tu', 'par', 'de', 'pies', 'Labios', 'compartidos,', 'labios', 'divididos,', 'mi', 'amor', 'Yo', 'no', 'puedo', 'compartir', 'tus', 'labios', 'Que', 'comparto', 'el', 'engaño', 'y', 'comparto', 'mis', 'días', 'y', 'el', 'dolor', 'Ya', 'no', 'puedo', 'compartir', 'tus', 'labios', 'Oh', 'amor,', 'oh', 'amor', 'compartido', 'Amor', 'mutante', 'Amigos', 'con', 'derecho', 'y', 'sin', 'derecho', 'de', 'tenerte', 'siempre', 'Y', 'siempre', 'tengo', 'que', 'esperar', 'paciente', 'El', 'pedazo', 'que', 'me', 'toca', 'de', 'ti', 'Relámpagos', 'de', 'alcohol', 'Las', 'voces', 'solas', 'lloran', 'en', 'el', 'sol,', 'eh', 'Mi', 'boca', 'en', 'llamas', 'torturada', 'Te', 'desnudas', 'angelada,', 'luego', 'te', 'vas', 'Otra', 'vez', 'mi', 'boca', 'insensata', 'Vuelve', 'a', 'caer', 'en', 'tu', 'piel', 'de', 'miel', 'Vuelve', 'a', 'mí', 'tu', 'boca,', 'duele', 'Vuelvo', 'a', 'caer', 'de', 'tus', 'pechos', 'a', 'tu', 'par', 'de', 'pies', 'Labios', 'compartidos,', 'labios', 'divididos,', 'mi', 'amor', 'Yo', 'no', 'puedo', 'compartir', 'tus', 'labios', 'Que', 'comparto', 'el', 'engaño', 'y', 'comparto', 'mis', 'días', 'y', 'el', 'dolor', 'Ya', 'no', 'puedo', 'compartir', 'tus', 'labios', 'Que', 'me', 'parta', 'un', 'rayo', 'Que', 'me', 'entierre', 'el', 'olvido', 'mi', 'amor', 'Pero', 'no', 'puedo', 'más', 'compartir', 'tus', 'labios,', 'compartir', 'tus', 'besos', 'Labios', 'compartidos', 'Te', 'amo', 'con', 'toda', 'mi', 'fe,', 'sin', 'medida', 'Te', 'amo', 'aunque', 'estés', 'compartida', 'Tus', 'labios', 'tiene', 'el', 'control', 'Te', 'amo', 'con', 'toda', 'mi', 'fe,', 'sin', 'medida', 'Te', 'amo', 'aunque', 'estés', 'compartida', 'Tus', 'labios', 'tienen', 'el', 'control', 'Y', 'sigues', 'tú', 'con', 'el', 'control']\n"
     ]
    }
   ],
   "source": [
    "print(mana)"
   ]
  },
  {
   "cell_type": "code",
   "execution_count": 5,
   "id": "ef99c350-1125-42b7-a4ec-e17e1854f933",
   "metadata": {},
   "outputs": [],
   "source": [
    "de_musica_ligera = '''Ella durmió al calor de las masas\n",
    "Y yo desperté queriendo soñarla\n",
    "Algún tiempo atrás pensé en escribirle\n",
    "Que nunca sorteé las trampas del amor\n",
    "De aquel amor\n",
    "De música ligera\n",
    "Nada nos libra\n",
    "Nada más queda\n",
    "No le enviaré cenizas de rosas\n",
    "Ni pienso evitar un roce secreto\n",
    "De aquel amor\n",
    "De música ligera\n",
    "Nada nos libra\n",
    "Nada más queda\n",
    "De aquel amor\n",
    "De música ligera\n",
    "Nada nos libra\n",
    "Nada más queda\n",
    "Nada más...\n",
    "Nada más queda\n",
    "Nada más queda\n",
    "Nada más queda\n",
    "Nada más queda'''"
   ]
  },
  {
   "cell_type": "code",
   "execution_count": 6,
   "id": "a992456a-31c3-4a9d-a027-4efe6720a3f5",
   "metadata": {},
   "outputs": [
    {
     "data": {
      "text/plain": [
       "'Ella durmió al calor de las masas\\nY yo desperté queriendo soñarla\\nAlgún tiempo atrás pensé en escribirle\\nQue nunca sorteé las trampas del amor\\nDe aquel amor\\nDe música ligera\\nNada nos libra\\nNada más queda\\nNo le enviaré cenizas de rosas\\nNi pienso evitar un roce secreto\\nDe aquel amor\\nDe música ligera\\nNada nos libra\\nNada más queda\\nDe aquel amor\\nDe música ligera\\nNada nos libra\\nNada más queda\\nNada más...\\nNada más queda\\nNada más queda\\nNada más queda\\nNada más queda'"
      ]
     },
     "execution_count": 6,
     "metadata": {},
     "output_type": "execute_result"
    }
   ],
   "source": [
    "de_musica_ligera.replace(',','')"
   ]
  },
  {
   "cell_type": "code",
   "execution_count": 7,
   "id": "52345553-8311-4c69-be4c-96dafe56ec0d",
   "metadata": {},
   "outputs": [],
   "source": [
    "soda = de_musica_ligera.split()"
   ]
  },
  {
   "cell_type": "code",
   "execution_count": 8,
   "id": "68d1e7cc-36eb-44d5-84dd-8d515de893c3",
   "metadata": {},
   "outputs": [
    {
     "name": "stdout",
     "output_type": "stream",
     "text": [
      "['Ella', 'durmió', 'al', 'calor', 'de', 'las', 'masas', 'Y', 'yo', 'desperté', 'queriendo', 'soñarla', 'Algún', 'tiempo', 'atrás', 'pensé', 'en', 'escribirle', 'Que', 'nunca', 'sorteé', 'las', 'trampas', 'del', 'amor', 'De', 'aquel', 'amor', 'De', 'música', 'ligera', 'Nada', 'nos', 'libra', 'Nada', 'más', 'queda', 'No', 'le', 'enviaré', 'cenizas', 'de', 'rosas', 'Ni', 'pienso', 'evitar', 'un', 'roce', 'secreto', 'De', 'aquel', 'amor', 'De', 'música', 'ligera', 'Nada', 'nos', 'libra', 'Nada', 'más', 'queda', 'De', 'aquel', 'amor', 'De', 'música', 'ligera', 'Nada', 'nos', 'libra', 'Nada', 'más', 'queda', 'Nada', 'más...', 'Nada', 'más', 'queda', 'Nada', 'más', 'queda', 'Nada', 'más', 'queda', 'Nada', 'más', 'queda']\n"
     ]
    }
   ],
   "source": [
    "print(soda)"
   ]
  },
  {
   "cell_type": "code",
   "execution_count": 9,
   "id": "3cbd8c89-2278-4996-94b8-dbb24f232c4a",
   "metadata": {},
   "outputs": [],
   "source": [
    "burbujas_de_amor = '''Tengo un corazón\n",
    "Mutilado de esperanza y de razón\n",
    "Tengo un corazón\n",
    "Que madruga adonde quiera\n",
    "Ay ay ay ay\n",
    "Y ese corazón\n",
    "Se desnuda de impaciencia ante tu voz\n",
    "Pobre corazón\n",
    "Que no atrapa su cordura\n",
    "Quisiera ser un pez\n",
    "Para tocar mi nariz en tu pecera\n",
    "Y hacer burbujas de amor\n",
    "Por donde quiera\n",
    "Oh-oh-oh pasar la noche en vela\n",
    "Mojado en ti\n",
    "Un pez\n",
    "Para bordar de corales tu cintura\n",
    "Y hacer siluetas de amor\n",
    "Bajo la luna\n",
    "Oh-oh-oh saciar esta locura\n",
    "Mojado en ti\n",
    "Canta corazón\n",
    "Con un ancla imprescindible de ilusión\n",
    "Sueña corazón\n",
    "No te nubles de amargura\n",
    "Ay ay ay ay\n",
    "Y este corazón\n",
    "Se desnuda de impaciencia ante tu voz\n",
    "Pobre corazón\n",
    "Que no atrapa su cordura\n",
    "Quisiera ser un pez\n",
    "Para tocar mi nariz\n",
    "En tu pecera\n",
    "Y hacer burbujas de amor\n",
    "Por donde quiera\n",
    "Oh-oh-oh pasar la noche en vela\n",
    "Mojado en ti\n",
    "Un pez\n",
    "Para bordar de corales tu cintura\n",
    "Y hacer siluetas de amor\n",
    "Bajo la luna\n",
    "Oh-oh-oh saciar esta locura\n",
    "Mojado en ti\n",
    "Una noche\n",
    "Para hundirnos hasta el fin\n",
    "Cara a cara, beso a beso\n",
    "Y vivir por siempre\n",
    "Mojado en ti\n",
    "Quisiera ser un pez\n",
    "Para tocar mi nariz\n",
    "En tu pecera\n",
    "Y hacer burbujas de amor\n",
    "Por donde quiera\n",
    "Oh-oh-oh pasar la noche en vela\n",
    "Mojado en ti\n",
    "Un pez\n",
    "Para bordar de cayenas tu cintura\n",
    "Y hacer siluetas de amor\n",
    "Bajo la luna\n",
    "Oh-oh-oh saciar esta locura\n",
    "Mojado en ti\n",
    "Para tocar mi nariz\n",
    "En tu pecera\n",
    "Y hacer burbujas de amor\n",
    "Por donde quiera\n",
    "Oh-oh-oh pasar la noche en vela\n",
    "Mojado en ti\n",
    "Un pez\n",
    "Para bordar de cayenas tu cintura\n",
    "Y hacer siluetas de amor\n",
    "Bajo la luna\n",
    "Oh-oh-oh vaciar esta locura\n",
    "Mojado en ti'''"
   ]
  },
  {
   "cell_type": "code",
   "execution_count": 10,
   "id": "c63cada2-2afa-4cdf-907a-e7d19f5e38a9",
   "metadata": {},
   "outputs": [
    {
     "data": {
      "text/plain": [
       "'Tengo un corazón\\nMutilado de esperanza y de razón\\nTengo un corazón\\nQue madruga adonde quiera\\nAy ay ay ay\\nY ese corazón\\nSe desnuda de impaciencia ante tu voz\\nPobre corazón\\nQue no atrapa su cordura\\nQuisiera ser un pez\\nPara tocar mi nariz en tu pecera\\nY hacer burbujas de amor\\nPor donde quiera\\n pasar la noche en vela\\nMojado en ti\\nUn pez\\nPara bordar de corales tu cintura\\nY hacer siluetas de amor\\nBajo la luna\\n saciar esta locura\\nMojado en ti\\nCanta corazón\\nCon un ancla imprescindible de ilusión\\nSueña corazón\\nNo te nubles de amargura\\nAy ay ay ay\\nY este corazón\\nSe desnuda de impaciencia ante tu voz\\nPobre corazón\\nQue no atrapa su cordura\\nQuisiera ser un pez\\nPara tocar mi nariz\\nEn tu pecera\\nY hacer burbujas de amor\\nPor donde quiera\\n pasar la noche en vela\\nMojado en ti\\nUn pez\\nPara bordar de corales tu cintura\\nY hacer siluetas de amor\\nBajo la luna\\n saciar esta locura\\nMojado en ti\\nUna noche\\nPara hundirnos hasta el fin\\nCara a cara beso a beso\\nY vivir por siempre\\nMojado en ti\\nQuisiera ser un pez\\nPara tocar mi nariz\\nEn tu pecera\\nY hacer burbujas de amor\\nPor donde quiera\\n pasar la noche en vela\\nMojado en ti\\nUn pez\\nPara bordar de cayenas tu cintura\\nY hacer siluetas de amor\\nBajo la luna\\n saciar esta locura\\nMojado en ti\\nPara tocar mi nariz\\nEn tu pecera\\nY hacer burbujas de amor\\nPor donde quiera\\n pasar la noche en vela\\nMojado en ti\\nUn pez\\nPara bordar de cayenas tu cintura\\nY hacer siluetas de amor\\nBajo la luna\\n vaciar esta locura\\nMojado en ti'"
      ]
     },
     "execution_count": 10,
     "metadata": {},
     "output_type": "execute_result"
    }
   ],
   "source": [
    "burbujas_de_amor.replace(',','').replace('Oh-oh-oh','')"
   ]
  },
  {
   "cell_type": "code",
   "execution_count": 11,
   "id": "3e2df59f-ea52-41af-b571-b01ad0c2501a",
   "metadata": {},
   "outputs": [],
   "source": [
    "Juan = burbujas_de_amor.split()"
   ]
  },
  {
   "cell_type": "code",
   "execution_count": 12,
   "id": "35682845-9468-44ec-9a2f-35ef6c6a0838",
   "metadata": {},
   "outputs": [
    {
     "name": "stdout",
     "output_type": "stream",
     "text": [
      "['Tengo', 'un', 'corazón', 'Mutilado', 'de', 'esperanza', 'y', 'de', 'razón', 'Tengo', 'un', 'corazón', 'Que', 'madruga', 'adonde', 'quiera', 'Ay', 'ay', 'ay', 'ay', 'Y', 'ese', 'corazón', 'Se', 'desnuda', 'de', 'impaciencia', 'ante', 'tu', 'voz', 'Pobre', 'corazón', 'Que', 'no', 'atrapa', 'su', 'cordura', 'Quisiera', 'ser', 'un', 'pez', 'Para', 'tocar', 'mi', 'nariz', 'en', 'tu', 'pecera', 'Y', 'hacer', 'burbujas', 'de', 'amor', 'Por', 'donde', 'quiera', 'Oh-oh-oh', 'pasar', 'la', 'noche', 'en', 'vela', 'Mojado', 'en', 'ti', 'Un', 'pez', 'Para', 'bordar', 'de', 'corales', 'tu', 'cintura', 'Y', 'hacer', 'siluetas', 'de', 'amor', 'Bajo', 'la', 'luna', 'Oh-oh-oh', 'saciar', 'esta', 'locura', 'Mojado', 'en', 'ti', 'Canta', 'corazón', 'Con', 'un', 'ancla', 'imprescindible', 'de', 'ilusión', 'Sueña', 'corazón', 'No', 'te', 'nubles', 'de', 'amargura', 'Ay', 'ay', 'ay', 'ay', 'Y', 'este', 'corazón', 'Se', 'desnuda', 'de', 'impaciencia', 'ante', 'tu', 'voz', 'Pobre', 'corazón', 'Que', 'no', 'atrapa', 'su', 'cordura', 'Quisiera', 'ser', 'un', 'pez', 'Para', 'tocar', 'mi', 'nariz', 'En', 'tu', 'pecera', 'Y', 'hacer', 'burbujas', 'de', 'amor', 'Por', 'donde', 'quiera', 'Oh-oh-oh', 'pasar', 'la', 'noche', 'en', 'vela', 'Mojado', 'en', 'ti', 'Un', 'pez', 'Para', 'bordar', 'de', 'corales', 'tu', 'cintura', 'Y', 'hacer', 'siluetas', 'de', 'amor', 'Bajo', 'la', 'luna', 'Oh-oh-oh', 'saciar', 'esta', 'locura', 'Mojado', 'en', 'ti', 'Una', 'noche', 'Para', 'hundirnos', 'hasta', 'el', 'fin', 'Cara', 'a', 'cara,', 'beso', 'a', 'beso', 'Y', 'vivir', 'por', 'siempre', 'Mojado', 'en', 'ti', 'Quisiera', 'ser', 'un', 'pez', 'Para', 'tocar', 'mi', 'nariz', 'En', 'tu', 'pecera', 'Y', 'hacer', 'burbujas', 'de', 'amor', 'Por', 'donde', 'quiera', 'Oh-oh-oh', 'pasar', 'la', 'noche', 'en', 'vela', 'Mojado', 'en', 'ti', 'Un', 'pez', 'Para', 'bordar', 'de', 'cayenas', 'tu', 'cintura', 'Y', 'hacer', 'siluetas', 'de', 'amor', 'Bajo', 'la', 'luna', 'Oh-oh-oh', 'saciar', 'esta', 'locura', 'Mojado', 'en', 'ti', 'Para', 'tocar', 'mi', 'nariz', 'En', 'tu', 'pecera', 'Y', 'hacer', 'burbujas', 'de', 'amor', 'Por', 'donde', 'quiera', 'Oh-oh-oh', 'pasar', 'la', 'noche', 'en', 'vela', 'Mojado', 'en', 'ti', 'Un', 'pez', 'Para', 'bordar', 'de', 'cayenas', 'tu', 'cintura', 'Y', 'hacer', 'siluetas', 'de', 'amor', 'Bajo', 'la', 'luna', 'Oh-oh-oh', 'vaciar', 'esta', 'locura', 'Mojado', 'en', 'ti']\n"
     ]
    }
   ],
   "source": [
    "print(Juan)"
   ]
  }
 ],
 "metadata": {
  "kernelspec": {
   "display_name": "Python 3",
   "language": "python",
   "name": "python3"
  },
  "language_info": {
   "codemirror_mode": {
    "name": "ipython",
    "version": 3
   },
   "file_extension": ".py",
   "mimetype": "text/x-python",
   "name": "python",
   "nbconvert_exporter": "python",
   "pygments_lexer": "ipython3",
   "version": "3.8.8"
  }
 },
 "nbformat": 4,
 "nbformat_minor": 5
}
