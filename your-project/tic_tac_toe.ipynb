{
 "nbformat": 4,
 "nbformat_minor": 2,
 "metadata": {
  "language_info": {
   "name": "python",
   "codemirror_mode": {
    "name": "ipython",
    "version": 3
   },
   "version": "3.7.6-final"
  },
  "orig_nbformat": 2,
  "file_extension": ".py",
  "mimetype": "text/x-python",
  "name": "python",
  "npconvert_exporter": "python",
  "pygments_lexer": "ipython3",
  "version": 3,
  "kernelspec": {
   "name": "python37664bitanaconda3virtualenv0697af1ee67a458e9253591065064715",
   "display_name": "Python 3.7.6 64-bit ('anaconda3': virtualenv)"
  }
 },
 "cells": [
  {
   "cell_type": "code",
   "execution_count": 25,
   "metadata": {},
   "outputs": [],
   "source": [
    "# Designing the infrastructure. \n",
    "\n",
    "# [1] First we create a list of \"Global Variables\".\n",
    "\n",
    "# [1.1] Game Board.\n",
    "\n",
    "board = [\"-\",\"-\",\"-\",\n",
    "        \"-\",\"-\",\"-\",\n",
    "        \"-\",\"-\",\"-\",]\n",
    "\n",
    "# [1.2] If game is still going. \n",
    "\n",
    "game_still_going = True\n",
    "\n",
    "# [1.3] Who won? or Tie?\n",
    "\n",
    "winner = None\n",
    "\n",
    "# [1.4] Who's turn is it?\n",
    "\n",
    "current_player = \"X\"\n",
    "\n",
    "# [2] Now we define a function that will display our board. \n",
    "\n",
    "def display_board():\n",
    "    print(board[0] + \" | \" + board[1] + \" | \" + board[2])\n",
    "    print(board[3] + \" | \" + board[4] + \" | \" + board[5])\n",
    "    print(board[6] + \" | \" + board[7] + \" | \" + board[8])"
   ]
  },
  {
   "cell_type": "code",
   "execution_count": 31,
   "metadata": {},
   "outputs": [],
   "source": [
    "# Designing the gameplay. \n",
    "\n",
    "\n",
    "# Here we will define a function that will start the game. \n",
    "def play_game():\n",
    "    # Display the board. \n",
    "    display_board()\n",
    "    # We need a loop that can loop over Handle Turns over and over again, until the game is over. \n",
    "    while game_still_going:\n",
    "        # Check if current player is an X or an O.    \n",
    "        handle_turn(current_player)\n",
    "        # Check if somebody won or if its a tie. \n",
    "        check_if_game_over()\n",
    "        # If the game ain't over, flip from player X to player O. \n",
    "        flip_player()\n",
    "\n",
    "    # The game has ended.\n",
    "    if winner == \"X\" or winner == \"O\":\n",
    "        print(winner + \"won!\")\n",
    "    elif winner == None:\n",
    "        print(\"Tie.\")\n",
    ""
   ]
  },
  {
   "cell_type": "code",
   "execution_count": 33,
   "metadata": {},
   "outputs": [
    {
     "output_type": "stream",
     "name": "stdout",
     "text": "- | - | -\n- | - | -\n- | - | -\n"
    },
    {
     "output_type": "error",
     "ename": "ValueError",
     "evalue": "invalid literal for int() with base 10: ''",
     "traceback": [
      "\u001b[0;31m---------------------------------------------------------------------------\u001b[0m",
      "\u001b[0;31mValueError\u001b[0m                                Traceback (most recent call last)",
      "\u001b[0;32m<ipython-input-33-28d71cb55113>\u001b[0m in \u001b[0;36m<module>\u001b[0;34m\u001b[0m\n\u001b[1;32m     40\u001b[0m \u001b[0;34m\u001b[0m\u001b[0m\n\u001b[1;32m     41\u001b[0m \u001b[0;34m\u001b[0m\u001b[0m\n\u001b[0;32m---> 42\u001b[0;31m \u001b[0mplay_game\u001b[0m\u001b[0;34m(\u001b[0m\u001b[0;34m)\u001b[0m\u001b[0;34m\u001b[0m\u001b[0;34m\u001b[0m\u001b[0m\n\u001b[0m",
      "\u001b[0;32m<ipython-input-31-65b1916c5257>\u001b[0m in \u001b[0;36mplay_game\u001b[0;34m()\u001b[0m\n\u001b[1;32m      9\u001b[0m     \u001b[0;32mwhile\u001b[0m \u001b[0mgame_still_going\u001b[0m\u001b[0;34m:\u001b[0m\u001b[0;34m\u001b[0m\u001b[0;34m\u001b[0m\u001b[0m\n\u001b[1;32m     10\u001b[0m         \u001b[0;31m# Check if current player is an X or an O.\u001b[0m\u001b[0;34m\u001b[0m\u001b[0;34m\u001b[0m\u001b[0;34m\u001b[0m\u001b[0m\n\u001b[0;32m---> 11\u001b[0;31m         \u001b[0mhandle_turn\u001b[0m\u001b[0;34m(\u001b[0m\u001b[0mcurrent_player\u001b[0m\u001b[0;34m)\u001b[0m\u001b[0;34m\u001b[0m\u001b[0;34m\u001b[0m\u001b[0m\n\u001b[0m\u001b[1;32m     12\u001b[0m         \u001b[0;31m# Check if somebody won or if its a tie.\u001b[0m\u001b[0;34m\u001b[0m\u001b[0;34m\u001b[0m\u001b[0;34m\u001b[0m\u001b[0m\n\u001b[1;32m     13\u001b[0m         \u001b[0mcheck_if_game_over\u001b[0m\u001b[0;34m(\u001b[0m\u001b[0;34m)\u001b[0m\u001b[0;34m\u001b[0m\u001b[0;34m\u001b[0m\u001b[0m\n",
      "\u001b[0;32m<ipython-input-33-28d71cb55113>\u001b[0m in \u001b[0;36mhandle_turn\u001b[0;34m(player)\u001b[0m\n\u001b[1;32m      5\u001b[0m \u001b[0;32mdef\u001b[0m \u001b[0mhandle_turn\u001b[0m\u001b[0;34m(\u001b[0m\u001b[0mplayer\u001b[0m\u001b[0;34m)\u001b[0m\u001b[0;34m:\u001b[0m\u001b[0;34m\u001b[0m\u001b[0;34m\u001b[0m\u001b[0m\n\u001b[1;32m      6\u001b[0m     \u001b[0mposition\u001b[0m \u001b[0;34m=\u001b[0m \u001b[0minput\u001b[0m\u001b[0;34m(\u001b[0m\u001b[0;34m\"Choose a position from 1 to 9: \"\u001b[0m\u001b[0;34m)\u001b[0m\u001b[0;34m\u001b[0m\u001b[0;34m\u001b[0m\u001b[0m\n\u001b[0;32m----> 7\u001b[0;31m     \u001b[0mposition\u001b[0m \u001b[0;34m=\u001b[0m \u001b[0mint\u001b[0m\u001b[0;34m(\u001b[0m\u001b[0mposition\u001b[0m\u001b[0;34m)\u001b[0m \u001b[0;34m-\u001b[0m \u001b[0;36m1\u001b[0m\u001b[0;34m\u001b[0m\u001b[0;34m\u001b[0m\u001b[0m\n\u001b[0m\u001b[1;32m      8\u001b[0m \u001b[0;34m\u001b[0m\u001b[0m\n\u001b[1;32m      9\u001b[0m \u001b[0;31m# [2] Now we will check if the game is over.\u001b[0m\u001b[0;34m\u001b[0m\u001b[0;34m\u001b[0m\u001b[0;34m\u001b[0m\u001b[0m\n",
      "\u001b[0;31mValueError\u001b[0m: invalid literal for int() with base 10: ''"
     ]
    }
   ],
   "source": [
    "# Designing the Functions that will run the game.\n",
    "\n",
    "\n",
    "# [1] First, let's ask the player to select its starting position. \n",
    "def handle_turn(player):\n",
    "    position = input(\"Choose a position from 1 to 9: \")\n",
    "    position = int(position) - 1\n",
    "\n",
    "# [2] Now we will check if the game is over. \n",
    "def check_if_game_over():\n",
    "    check_if_win()\n",
    "    check_if_tie()\n",
    "\n",
    "# [2.1] Check for a win. \n",
    "\n",
    "def check_if_win():\n",
    "    # Check rows. \n",
    "    # Check columns. \n",
    "    # Check diagonals.\n",
    "    return\n",
    "\n",
    "# [2.2] Check for a tie. \n",
    "\n",
    "def check_if_tie():\n",
    "    # Check rows. \n",
    "    # Check columns. \n",
    "    # Check diagonals.\n",
    "    return\n",
    "\n",
    "# [2.3] Flip the player (if the game is still going). \n",
    "\n",
    "def flip_player():\n",
    "    return\n",
    "\n",
    "\n",
    "# Now we actually do something with the board, by putting the selected position into the board. \n",
    "    board[position] = \"X\"\n",
    "    display_board()\n",
    "\n",
    "\n",
    "\n",
    "play_game()"
   ]
  },
  {
   "cell_type": "code",
   "execution_count": null,
   "metadata": {},
   "outputs": [],
   "source": []
  }
 ]
}