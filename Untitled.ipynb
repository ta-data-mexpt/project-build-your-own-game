{
 "cells": [
  {
   "cell_type": "code",
   "execution_count": 10,
   "id": "4ae1b897-ca96-4299-b8f5-9f0e7b39c7d5",
   "metadata": {},
   "outputs": [],
   "source": [
    "class Potion:\n",
    "    def __init__(self, color, volume):\n",
    "        self.color = list(color)\n",
    "        self.volumen = volume\n",
    "        pass\n",
    "    \n",
    "    def mix(self, other):\n",
    "        import math\n",
    "        cero = math.ceil(((self.color[0]*self.volumen)+(other.color[0]*other.volumen))/(self.volumen+other.volumen))\n",
    "        uno = math.ceil(((self.color[1]*self.volumen)+(other.color[1]*other.volumen))/(self.volumen+other.volumen))\n",
    "        dos = math.ceil(((self.color[2]*self.volumen)+(other.color[2]*other.volumen))/(self.volumen+other.volumen))\n",
    "        volumen = self.volumen + other.volumen\n",
    "        return Potion ((cero, uno, dos), volumen)"
   ]
  },
  {
   "cell_type": "code",
   "execution_count": 11,
   "id": "acb7762b-869f-400e-9e6e-efac4a608675",
   "metadata": {},
   "outputs": [],
   "source": [
    "uno = Potion((255, 255, 255), 7)\n",
    "dos = Potion((51, 102,  51),12)\n",
    "new_potion =  uno.mix(dos)"
   ]
  },
  {
   "cell_type": "code",
   "execution_count": 12,
   "id": "5bd01c7f-0748-4173-b52f-05fabdde3223",
   "metadata": {},
   "outputs": [
    {
     "data": {
      "text/plain": [
       "[127, 159, 127]"
      ]
     },
     "execution_count": 12,
     "metadata": {},
     "output_type": "execute_result"
    }
   ],
   "source": [
    "new_potion.color"
   ]
  },
  {
   "cell_type": "code",
   "execution_count": 14,
   "id": "5209bfcb-d230-435f-8b96-058f021c1435",
   "metadata": {},
   "outputs": [
    {
     "data": {
      "text/plain": [
       "19"
      ]
     },
     "execution_count": 14,
     "metadata": {},
     "output_type": "execute_result"
    }
   ],
   "source": [
    "new_potion.volumen"
   ]
  },
  {
   "cell_type": "code",
   "execution_count": null,
   "id": "85ee4d26-eb1b-484a-81f6-5a4418d5b859",
   "metadata": {},
   "outputs": [],
   "source": []
  }
 ],
 "metadata": {
  "kernelspec": {
   "display_name": "Python 3 (ipykernel)",
   "language": "python",
   "name": "python3"
  },
  "language_info": {
   "codemirror_mode": {
    "name": "ipython",
    "version": 3
   },
   "file_extension": ".py",
   "mimetype": "text/x-python",
   "name": "python",
   "nbconvert_exporter": "python",
   "pygments_lexer": "ipython3",
   "version": "3.9.7"
  }
 },
 "nbformat": 4,
 "nbformat_minor": 5
}
